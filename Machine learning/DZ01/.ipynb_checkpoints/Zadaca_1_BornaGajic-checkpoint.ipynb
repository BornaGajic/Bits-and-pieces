{
 "cells": [
  {
   "cell_type": "markdown",
   "metadata": {},
   "source": [
    "# Zadaća 1\n",
    "##### Rok za predaju: 03. ožujka, 2021. u 23:59h\n",
    "##### Način predaje: Teams->Strojno učenje->Assignment, predajete.ipynb datoteka (ili više datoteki u .zip) ili link na Google colab "
   ]
  },
  {
   "cell_type": "markdown",
   "metadata": {},
   "source": [
    "Borna Gajić"
   ]
  },
  {
   "cell_type": "code",
   "execution_count": 1,
   "metadata": {},
   "outputs": [],
   "source": [
    "import pandas as pd\n",
    "import numpy as np\n",
    "from numpy import linalg\n",
    "import matplotlib.pyplot as plt\n",
    "from sklearn import preprocessing\n",
    "from sklearn.linear_model import LinearRegression\n",
    "import seaborn as sns\n",
    "# ..."
   ]
  },
  {
   "cell_type": "markdown",
   "metadata": {},
   "source": [
    "## Zadatak 1 (5)\n",
    "___\n",
    "Pokažite kako je funkcija $J(\\theta) = \\frac{1}{2m}\\sum\\limits_{i=1}^{m}(h_{\\theta}(x^{(i)})-y^{(i)})^2$ konveksna. <br>\n",
    "(Pomoć: veza sa Hessijanom. )\n"
   ]
  },
  {
   "cell_type": "markdown",
   "metadata": {},
   "source": [
    "Vaš odgovor ovdje\n",
    "\n",
    "---"
   ]
  },
  {
   "cell_type": "markdown",
   "metadata": {},
   "source": [
    "## Zadatak 2 (10)\n",
    "___\n",
    "Izračunajte gradijent funkcije $J(\\theta) = \\frac{1}{2m}\\sum\\limits_{i=1}^{m}(h_{\\theta}(x^{(i)})-y^{(i)})^2$ tj. raspišite kako biste dobili izraz dan na predavanju."
   ]
  },
  {
   "cell_type": "markdown",
   "metadata": {},
   "source": [
    "- Potrebno je raspisati gradijent funkcije $J(\\theta)= \\frac{1}{2m}\\sum_{i=1}^{m} (h_\\theta(x^{(i)})- y^{(i)})^2$\n",
    "- $h_\\Theta(x^{(i)})=\\Theta^Tx$ , gdje je\n",
    "$\\Theta = \\begin{bmatrix} \\Theta_0 \\\\ \\Theta_1 \\\\ {.} \\\\ {.} \\\\ {.} \\\\ \\Theta_n  \\end{bmatrix}$ $x^{(i)} = \\begin{bmatrix} {x_0}^{(i)} \\\\ {x_1}^{(i)} \\\\ {.} \\\\ {.} \\\\ {.} \\\\ {x_n}^{(i)} \\end{bmatrix}$ \n",
    "\n",
    "$\\Rightarrow$ ${x_j}^{(i)}, {x_0}^{(i)}=1 , \\forall j=0,...,n$\n",
    "\n",
    "Gradijent: $ \\nabla J(\\theta) = \\begin{bmatrix} \\frac{1}{m}\\sum_{i=1}^{m}c \\\\ \\frac{1}{m}\\sum_{i=1}^{m}(c{x_1}^{(i)}) \\\\ \\frac{1}{m}\\sum_{i=1}^{m}(c{x_2}^{(i)}) \\\\ {.} \\\\ . \\\\ . \\\\ \\frac{1}{m}\\sum_{i=1}^{m}(c{x_n}^{(i)}) \\end{bmatrix} $, $c= (h_\\theta(x^{(i)})- y^{(i)})$\n",
    "\n",
    "\n",
    "---"
   ]
  },
  {
   "cell_type": "markdown",
   "metadata": {},
   "source": [
    "\n",
    "## Zadatak 3 (15)\n",
    "___\n",
    "Neka su zadani ulazni podaci $X\\in \\mathbb{R}^{m\\times n}$ i pripadne izlazne vrijednosti $y\\in\\mathbb{R}^{m}$. Na ovim podacima možemo provesti proces učenja modela linearne regresije. <br>\n",
    "Znamo kako se učenje svodi na minimizaciju funkcije $J(\\theta) = \\frac{1}{2m}\\sum\\limits_{i=1}^{m}(h_{\\theta}(x^{(i)})-y^{(i)})^2$ te kako do rješenje tog minimizacijskog problema možemo doći gradijentnom metodom. <br>\n",
    "Implementirajte gradijentnu metodu za učenje modela linearne regresije u općenitom slučaju kada su ulazni podaci dimenzije $X\\in \\mathbb{R}^{m\\times n}$.<br>\n",
    "\n",
    "Dodajte sljedeću mogućnost svojoj implementaciji gradijentne metode: crtanje grafa ovisnosti funkcije troška $J(\\theta)$ o iteracijama. (U svakoj iteraciji spremite vrijednost funkcije troška)"
   ]
  },
  {
   "cell_type": "code",
   "execution_count": 5,
   "metadata": {},
   "outputs": [],
   "source": [
    "def ModelFunction (theta: np.array, x: np.array):\n",
    "    try:\n",
    "        return np.inner(theta, x)\n",
    "    except:\n",
    "        X = np.concatenate((np.ones(1), x), axis=0)\n",
    "        return np.inner(theta, X)\n",
    "    \n",
    "def LossFunction (theta: np.array, x: np.array, y: np.array):\n",
    "    dim = np.shape(x)\n",
    "    result = 0\n",
    "    \n",
    "    for i in range(0, dim[0]):\n",
    "        result += (ModelFunction(theta, x[i]) - y[i])**2\n",
    "        \n",
    "    return result * 1/(2*dim[0])\n",
    "\n",
    "def GradientMethod (x: np.array, y: np.array, step = 1, lossAccept = 0.001, show_plot = True):\n",
    "    X = np.c_[np.ones(np.shape(x)[0]), x]\n",
    "    m, n = np.shape(X)\n",
    "    theta = np.ones(n)\n",
    "    lossResult = [LossFunction(theta, X, y)]\n",
    "    \n",
    "    while lossResult[-1] > lossAccept:\n",
    "        for j in range(0, n):\n",
    "            lossFunDeriv_j = 0\n",
    "            for i in range(0, m):\n",
    "                if j != 0:\n",
    "                    lossFunDeriv_j += (ModelFunction(theta, X[i]) - y[i]) * X[i, j]\n",
    "                else:\n",
    "                    lossFunDeriv_j += ModelFunction(theta, X[i]) - y[i]\n",
    "                \n",
    "            theta[j] = theta[j] - step/m * lossFunDeriv_j\n",
    "        \n",
    "        lossResult.append(LossFunction(theta, X, y))\n",
    "        \n",
    "        if len(lossResult) > 1 and abs(lossResult[-1] - lossResult[-2]) <= 0.001: break\n",
    "            \n",
    "    print(\"Zadnja vrijednost funkcije troška: {}\".format(lossResult[-1]))\n",
    "    \n",
    "    if show_plot == True:\n",
    "        N = np.arange(1, len(lossResult) + 1)\n",
    "        plt.plot(N, lossResult)\n",
    "        plt.ylabel(\"Rezultat Loss funkcije\")\n",
    "        plt.xlabel(\"Iteration\")\n",
    "        \n",
    "        plt.show()\n",
    "    \n",
    "    return theta"
   ]
  },
  {
   "cell_type": "markdown",
   "metadata": {},
   "source": [
    "Testiranje Gradijentne metode:"
   ]
  },
  {
   "cell_type": "code",
   "execution_count": 140,
   "metadata": {},
   "outputs": [
    {
     "name": "stdout",
     "output_type": "stream",
     "text": [
      "X:\n",
      "[[1.   1.5 ]\n",
      " [2.   2.5 ]\n",
      " [1.45 0.9 ]\n",
      " [2.2  0.3 ]]\n",
      "\n",
      "Y:\n",
      "[1.  1.5 2.2 2.9]\n",
      "\n",
      "Zadnja vrijednost funkcije troška: 0.022187191727417233\n"
     ]
    },
    {
     "data": {
      "image/png": "[encoded data removed]",
      "text/plain": [
       "<Figure size 432x288 with 1 Axes>"
      ]
     },
     "metadata": {
      "needs_background": "light"
     },
     "output_type": "display_data"
    },
    {
     "name": "stdout",
     "output_type": "stream",
     "text": [
      "Theta: [ 0.840174    0.96682383 -0.4466338 ]\n",
      "Aproksimacija za ulaz (X1, X2) = (20, 30):  6.7776366954787655\n"
     ]
    }
   ],
   "source": [
    "X = np.array([1, 1.5, 2, 2.5, 1.45, 0.9, 2.2, 0.3]).reshape(-1, 2)\n",
    "Y = np.array([1, 1.5, 2.2, 2.9])\n",
    "print(\"X:\\n{}\\n\".format(X))\n",
    "print(\"Y:\\n{}\\n\".format(Y))\n",
    "\n",
    "theta_array = GradientMethod(X, Y, 0.1)\n",
    "\n",
    "print(\"Theta:\", theta_array)\n",
    "x1 = 20\n",
    "x2 = 30\n",
    "print(\"Aproksimacija za ulaz (X1, X2) = ({0}, {1}): \".format(x1, x2), ModelFunction(theta_array, np.array([x1, x2])))"
   ]
  },
  {
   "cell_type": "markdown",
   "metadata": {},
   "source": [
    "## Zadatak 4 (15)\n",
    "___\n",
    "U datoteci house_train.csv i house_test.csv su vam dani podaci o nekretninama, koji sadrže različite karakteristike nekretnina poput površine ili broja soba te cijenu. Cilj narednih zadataka će biti uspostaviti linearnu regresiju između različitih karakteristika kuće u svrhu predviđanja cijene nekretnine. \n",
    "\n",
    "Kao ulaznu varijablu uzmite sqft_living, a kao izlaznu varijablu price. \n",
    "\n",
    "1. Učitajte podatke koji su vam dani u datoteci *house_train.csv*. Skalirajte podatke koristeći metodu objašnjenu na sljedećem [linku](https://scikit-learn.org/stable/modules/generated/sklearn.preprocessing.scale.html#sklearn.preprocessing.scale) \n",
    "\n",
    "1. Koristeći proizvoljnu biblioteku vizualizirajte odnos varijable ulaznih i izlaznih podataka. \n",
    "\n",
    "1. Koristeći *numpy array* napravite matricu dizajna $X\\in \\mathbb{R}^{m\\times (n+1)}$ i vektor izlaznih podataka $y \\in \\mathbb{R}^{m}$. \n",
    "\n",
    "1. Pokrenite gradijentnu metodu koju ste implementirali u prethodnom zadatku i pomoću nje odredite parametre $\\theta_0$ i $\\theta_1$. (Stopu učenja i broj iteracija odredite sami)\n",
    "\n",
    "1. Pravac određen izračunatime  parametrima $\\theta_0 + \\theta_1 x$ prikažite na grafu iz podzadatka b).\n",
    "1. Nacrtajte  graf promjene funkcije troška $J(\\theta)$ kroz iteracije.\n",
    "1. Učitajte podatke iz datoteke \\textit{house\\_test.csv}, spremite ih u odgovarajuće \\textit{numpy arrays} $X_{test}$ i $y_{test}$. Pazite, $X_{test}$ je ponovno matrica dizajna kao i $X$. Kao u podzadatku b), podatke prikažite  grafički.\n",
    "1. Na učitanim podacima za testiranje provedite testiranje vašeg modela tako da izračunate pogrešku kao što smo pokazali na vježbama. Ispišite vrijednost pogreške.\n",
    "\n",
    "8. Za podatke $X$ i $y$ učitane iz datoteke *house\\_train.csv* odredite opet parametre $\\theta_0, \\theta_1$, ali koristeći gotovu implementaciju iz [*sklearn*](https://scikit-learn.org/stable/modules/generated/sklearn.linear_model.LinearRegression.html}{sklearn.LinearRegression) biblioteke. (Pazite na dimenzije)\n",
    "\n",
    "1. Na učitanim podacima za testiranje provedite testiranje ovog modela kao što smo pokazali na vježbama. Ispišite vrijednost pogreške.\n",
    "\n",
    "1. Razlikuju li se model kojeg ste dobili koristeći vašu implementaciju gradijentne metode i model kojeg ste dobili koristeći gotovu implementaciju iz *scikit-learn* paketa? \n",
    "\n",
    "1. Za podatke $X$ i $Y$ učitane iz datoteke *house_train.csv* odredite opet parametre $\\theta_0, \\theta_1$, ali koristeći sustav normalnih jednadžbi. "
   ]
  },
  {
   "cell_type": "code",
   "execution_count": 2,
   "metadata": {},
   "outputs": [],
   "source": [
    "data = pd.read_csv('./Podaci/house_train.csv')\n",
    "sqft_living_data = preprocessing.scale(data['sqft_living'].to_numpy())"
   ]
  },
  {
   "cell_type": "code",
   "execution_count": 3,
   "metadata": {},
   "outputs": [
    {
     "data": {
      "image/png": "[encoded data removed]",
      "text/plain": [
       "<Figure size 432x288 with 1 Axes>"
      ]
     },
     "metadata": {
      "needs_background": "light"
     },
     "output_type": "display_data"
    }
   ],
   "source": [
    "plt.scatter(sqft_living_data, data['price'])\n",
    "plt.ylabel('Cijena kvadrata x10^6')\n",
    "plt.xlabel('Broj kvadrata')\n",
    "plt.show()"
   ]
  },
  {
   "cell_type": "code",
   "execution_count": 6,
   "metadata": {},
   "outputs": [
    {
     "name": "stdout",
     "output_type": "stream",
     "text": [
      "Zadnja vrijednost funkcije troška: 34426272415.221306\n"
     ]
    },
    {
     "data": {
      "image/png": "[encoded data removed]",
      "text/plain": [
       "<Figure size 432x288 with 1 Axes>"
      ]
     },
     "metadata": {
      "needs_background": "light"
     },
     "output_type": "display_data"
    }
   ],
   "source": [
    "X = sqft_living_data # napravio sam da se u metodi doda x0\n",
    "Y = data['price'].to_numpy()\n",
    "\n",
    "theta_array = GradientMethod(X, Y, step = 0.5)"
   ]
  },
  {
   "cell_type": "code",
   "execution_count": 290,
   "metadata": {},
   "outputs": [
    {
     "data": {
      "image/png": "[encoded data removed]",
      "text/plain": [
       "<Figure size 432x288 with 1 Axes>"
      ]
     },
     "metadata": {
      "needs_background": "light"
     },
     "output_type": "display_data"
    }
   ],
   "source": [
    "model_function = theta_array[0] + X*theta_array[1]\n",
    "\n",
    "plt.scatter(data = data, x = sqft_living_data, y = 'price')\n",
    "plt.plot(sqft_living_data, model_function, '-r')\n",
    "plt.ylabel('Cijena kvadrata x10^6')\n",
    "plt.xlabel('Skalirani broj kvadrata')\n",
    "plt.show()"
   ]
  },
  {
   "cell_type": "markdown",
   "metadata": {},
   "source": [
    "Testiranje modela:"
   ]
  },
  {
   "cell_type": "code",
   "execution_count": 10,
   "metadata": {},
   "outputs": [],
   "source": [
    "data = pd.read_csv('./Podaci/house_test.csv')\n",
    "\n",
    "X_test = preprocessing.scale(data['sqft_living'].to_numpy())\n",
    "Y_test = data['price'].to_numpy()"
   ]
  },
  {
   "cell_type": "code",
   "execution_count": 11,
   "metadata": {},
   "outputs": [
    {
     "data": {
      "image/png": "[encoded data removed]",
      "text/plain": [
       "<Figure size 432x288 with 1 Axes>"
      ]
     },
     "metadata": {
      "needs_background": "light"
     },
     "output_type": "display_data"
    }
   ],
   "source": [
    "plt.scatter(X_test, Y_test)\n",
    "plt.ylabel('Cijena kvadrata x10^6')\n",
    "plt.xlabel('Skalirani broj kvadrata')\n",
    "plt.show()"
   ]
  },
  {
   "cell_type": "markdown",
   "metadata": {},
   "source": [
    "Scikit-learn pogreška:"
   ]
  },
  {
   "cell_type": "code",
   "execution_count": 12,
   "metadata": {},
   "outputs": [
    {
     "name": "stdout",
     "output_type": "stream",
     "text": [
      "Theta dobivena od Scikit-learn:  [540455.53979179 257031.54699643]\n",
      "33180395007.975307\n"
     ]
    }
   ],
   "source": [
    "lr = LinearRegression(fit_intercept = False)\n",
    "\n",
    "skX = np.c_[np.ones(len(X.reshape(-1, 1))), X.reshape(-1, 1)]\n",
    "skX_test = np.c_[np.ones(len(X_test.reshape(-1, 1))), X_test.reshape(-1, 1)]\n",
    "\n",
    "lr.fit(skX, Y)\n",
    "\n",
    "print(\"Theta dobivena od Scikit-learn: \", lr.coef_)\n",
    "\n",
    "num_error = 0\n",
    "for i, prediction in enumerate(lr.predict(skX_test)):\n",
    "    num_error += (prediction -  Y_test[i])**2\n",
    "    \n",
    "print(num_error / (2*X_test.shape[0]))"
   ]
  },
  {
   "cell_type": "markdown",
   "metadata": {},
   "source": [
    "Vlastita implementacija modela:"
   ]
  },
  {
   "cell_type": "code",
   "execution_count": 303,
   "metadata": {},
   "outputs": [
    {
     "name": "stdout",
     "output_type": "stream",
     "text": [
      "Zadnja vrijednost funkcije troška: 33172683536.460907\n",
      "Theta dobivena od vlastite implementacije:  [538618.70358708 260502.71119005]\n",
      "33172683536.460907\n"
     ]
    }
   ],
   "source": [
    "theta_array = GradientMethod(X_test, Y_test, 0.5, show_plot = False)\n",
    "\n",
    "print(\"Theta dobivena od vlastite implementacije: \", theta_array)\n",
    "\n",
    "num_error = 0\n",
    "for idx, x_test in enumerate(X_test):\n",
    "    num_error += (ModelFunction(theta_array, np.concatenate((np.ones(1), x_test.reshape(-1, 1)[0]), axis=0)) -  Y_test[idx])**2\n",
    "    \n",
    "print(num_error / (2*X_test.shape[0]))"
   ]
  },
  {
   "cell_type": "markdown",
   "metadata": {},
   "source": [
    "Razlika između modela je mala."
   ]
  },
  {
   "cell_type": "markdown",
   "metadata": {},
   "source": [
    "Theta preko sustava normalnih jednadžbi:"
   ]
  },
  {
   "cell_type": "code",
   "execution_count": 39,
   "metadata": {},
   "outputs": [
    {
     "name": "stdout",
     "output_type": "stream",
     "text": [
      "Theta dobivena sustavom normalnih jednadžbi:  [540455.53979179 257031.54699643]\n"
     ]
    }
   ],
   "source": [
    "XtX = np.matmul(skX.T, skX)\n",
    "XtX_inv = linalg.pinv(XtX)\n",
    "\n",
    "theta_array_normal_eq = np.matmul(XtX_inv, (np.matmul(skX.T, Y)))\n",
    "\n",
    "print(\"Theta dobivena sustavom normalnih jednadžbi: \", theta_array_normal_eq)"
   ]
  },
  {
   "cell_type": "markdown",
   "metadata": {},
   "source": [
    "## Zadatak 5 (15)\n",
    "___\n",
    "U ovom zadatku ulazni podaci će biti višestruki. Izlazna varijabla je i dalje price. \n",
    "1. Odaberite nekoliko karakteristika koje će vam biti ulazni podaci. Reprezentirajte ih kao \\textit{numpy arrays}.  (Npr. 3 karakteristike)\n",
    "1. Izračunajte parametre $\\theta_0, \\theta_1$ koristeći implementaciju gradijentne metode iz trećeg zadatka. \n",
    "1. Učitajte podatke iz datoteke \\textit{house\\_test.csv}, spremite ih u odgovarajuće \\textit{numpy arrays} $X_{test}$ i $y_{test}$.\n",
    "1. Na učitanim podacima za testiranje provedite testiranje vašeg modela tako da izračunate pogrešku kao što smo pokazali na vježbama. Ispišite vrijednost pogreške."
   ]
  },
  {
   "cell_type": "code",
   "execution_count": 322,
   "metadata": {},
   "outputs": [],
   "source": [
    "data = pd.read_csv('./Podaci/house_train.csv')\n",
    "\n",
    "sqft_living = preprocessing.scale(data['sqft_living'].to_numpy())\n",
    "bedrooms = preprocessing.scale(data['bedrooms'].to_numpy())\n",
    "grade = preprocessing.scale(data['grade'].to_numpy())\n",
    "\n",
    "X = np.c_[sqft_living.reshape(-1, 1), bedrooms.reshape(-1, 1), grade.reshape(-1, 1)]\n",
    "Y = data['price'].to_numpy()"
   ]
  },
  {
   "cell_type": "markdown",
   "metadata": {},
   "source": [
    "Featuri koje sam odabrao: kvadratura stana, broj soba, te ocijena (skalirani)"
   ]
  },
  {
   "cell_type": "code",
   "execution_count": 323,
   "metadata": {},
   "outputs": [
    {
     "name": "stdout",
     "output_type": "stream",
     "text": [
      "Zadnja vrijednost funkcije troška: 31069568646.91573\n"
     ]
    },
    {
     "data": {
      "image/png": "[encoded data removed]",
      "text/plain": [
       "<Figure size 432x288 with 1 Axes>"
      ]
     },
     "metadata": {
      "needs_background": "light"
     },
     "output_type": "display_data"
    }
   ],
   "source": [
    "theta_array = GradientMethod(X, Y, step = 0.5)"
   ]
  },
  {
   "cell_type": "code",
   "execution_count": 324,
   "metadata": {},
   "outputs": [
    {
     "name": "stdout",
     "output_type": "stream",
     "text": [
      "Theta:  [540455.53979179 195817.98928506 -38761.87406372 109280.62350483]\n"
     ]
    }
   ],
   "source": [
    "print(\"Theta: \", theta_array)"
   ]
  },
  {
   "cell_type": "markdown",
   "metadata": {},
   "source": [
    "Testni podaci:"
   ]
  },
  {
   "cell_type": "code",
   "execution_count": 337,
   "metadata": {},
   "outputs": [
    {
     "name": "stdout",
     "output_type": "stream",
     "text": [
      "[[-0.28589888 -0.39832577 -0.56081125]\n",
      " [-0.74426672 -0.39832577 -0.56081125]\n",
      " [-0.27498536 -0.39832577 -0.56081125]\n",
      " ...\n",
      " [ 0.5217016  -0.39832577  0.29027508]\n",
      " [-1.35542384 -1.46658272 -0.56081125]\n",
      " [-0.078542    0.66993118  0.29027508]]\n"
     ]
    }
   ],
   "source": [
    "test_data = pd.read_csv('./Podaci/house_test.csv')\n",
    "\n",
    "test_sqft_living = preprocessing.scale(data['sqft_living'].to_numpy())\n",
    "test_bedrooms = preprocessing.scale(data['bedrooms'].to_numpy())\n",
    "test_grade = preprocessing.scale(data['grade'].to_numpy())\n",
    "\n",
    "X_test = np.c_[sqft_living.reshape(-1, 1), bedrooms.reshape(-1, 1), grade.reshape(-1, 1)]\n",
    "Y_test = data['price'].to_numpy()"
   ]
  },
  {
   "cell_type": "markdown",
   "metadata": {},
   "source": [
    "Testiranje na vlastitom modelu:"
   ]
  },
  {
   "cell_type": "code",
   "execution_count": 327,
   "metadata": {},
   "outputs": [
    {
     "name": "stdout",
     "output_type": "stream",
     "text": [
      "Zadnja vrijednost funkcije troška: 31069568646.91573\n"
     ]
    },
    {
     "data": {
      "image/png": "[encoded data removed]",
      "text/plain": [
       "<Figure size 432x288 with 1 Axes>"
      ]
     },
     "metadata": {
      "needs_background": "light"
     },
     "output_type": "display_data"
    },
    {
     "name": "stdout",
     "output_type": "stream",
     "text": [
      "Theta dobivena od vlastite implementacije:  [540455.53979179 195817.98928506 -38761.87406372 109280.62350483]\n"
     ]
    }
   ],
   "source": [
    "theta_array = GradientMethod(X_test, Y_test, 0.5)\n",
    "\n",
    "print(\"Theta dobivena od vlastite implementacije: \", theta_array)"
   ]
  },
  {
   "cell_type": "code",
   "execution_count": 345,
   "metadata": {},
   "outputs": [
    {
     "name": "stdout",
     "output_type": "stream",
     "text": [
      "Pogreška s vježbi:  31069568646.91573\n"
     ]
    }
   ],
   "source": [
    "num_error = 0\n",
    "\n",
    "for idx, x_test in enumerate(X_test):\n",
    "    num_error += (ModelFunction(theta_array, np.concatenate((np.ones(1), x_test), axis=0)) -  Y_test[idx])**2\n",
    "    \n",
    "print(\"Pogreška s vježbi: \", num_error / (2*X_test.shape[0]))"
   ]
  }
 ],
 "metadata": {
  "kernelspec": {
   "display_name": "Python 3",
   "language": "python",
   "name": "python3"
  },
  "language_info": {
   "codemirror_mode": {
    "name": "ipython",
    "version": 3
   },
   "file_extension": ".py",
   "mimetype": "text/x-python",
   "name": "python",
   "nbconvert_exporter": "python",
   "pygments_lexer": "ipython3",
   "version": "3.8.5"
  }
 },
 "nbformat": 4,
 "nbformat_minor": 4
}
