{
 "cells": [
  {
   "cell_type": "markdown",
   "metadata": {},
   "source": [
    "---\n",
    "# Zadaća 8\n",
    "##### Rok za predaju: 14. svibnja, 2021. u 23:59h\n",
    "##### Način predaje: Teams->Strojno učenje->Assignment, predajete.ipynb datoteka (ili više datoteki u .zip) ili link na Google colab "
   ]
  },
  {
   "cell_type": "markdown",
   "metadata": {},
   "source": [
    "### Ime i prezime: Borna Gajić\n",
    "\n",
    "---"
   ]
  },
  {
   "cell_type": "code",
   "execution_count": 272,
   "metadata": {},
   "outputs": [],
   "source": [
    "import numpy as np\n",
    "import pandas as pd\n",
    "import matplotlib.pyplot as plt\n",
    "import torch\n",
    "from torch import nn\n",
    "from torch.utils.data import Dataset, DataLoader\n",
    "from sklearn.preprocessing import LabelEncoder, StandardScaler\n",
    "from sklearn.model_selection import train_test_split\n",
    "from sklearn.metrics import accuracy_score, confusion_matrix"
   ]
  },
  {
   "cell_type": "markdown",
   "metadata": {},
   "source": [
    "## Zadatak 1\n",
    "U sljedećim zadacima trebate složiti četiri modela neuronskih mreža za učenje na danim podacima `data-x.npy, data-y.npy`. <br>\n",
    "Mreže složite koristeći `PyTorch` (tako da možete proizvoljno odabrati početne vrijednosti za težine). <br>\n",
    "Upute za arhitekturu mreže:\n",
    "- broj aktivacijskih jedinica u ulaznom sloju je određen brojem varijabli u `data-x.npy`\n",
    "- jedan skriveni sloj neka ima `100` aktivacijskih jedinica\n",
    "- izlazni sloj neka ima jednu aktivacijsku jedinicu\n",
    "\n",
    "Upute za odabir aktivacijskih funkcija i početnih težina\n",
    "- aktivacijski funkcija na izlaznom sloju neka bude identiteta (bez aktivacijske funkcije) u svakom slučaju\n",
    "- aktivacijska funkcija na skrivenom sloju\n",
    "    - aktivacijska funkcija je sigmoid, početne težine su sve postavljene na 10\n",
    "    - aktivacijska funkcija je simoid, početne težine su slučajno generirani brojevi između 0-1\n",
    "    - aktivacijska funkcija je ReLU, početne težine su sve postavljene na 0\n",
    "    - aktivacijska funkcija je ReLu, početne težine su slučajno generirani brojevi između 0-1\n",
    "\n",
    "Kada budete trenirali svaki od ovih slučajeva, fiksirajte broj iteracija na 50, te ispišite kretanje vrijednosti funkciju pogreške. Što primjećujete? Kako to interpretirate?"
   ]
  },
  {
   "cell_type": "code",
   "execution_count": 2,
   "metadata": {},
   "outputs": [],
   "source": [
    "class trainData (Dataset):\n",
    "    \n",
    "    def __init__(self, X_data, y_data):\n",
    "        self.X_data = X_data\n",
    "        self.y_data = y_data\n",
    "        \n",
    "    def __getitem__(self, index):\n",
    "        return self.X_data[index], self.y_data[index]\n",
    "        \n",
    "    def __len__ (self):\n",
    "        return len(self.X_data)\n",
    "\n",
    "class testData(Dataset):\n",
    "    \n",
    "    def __init__(self, X_data):\n",
    "        self.X_data = X_data\n",
    "        \n",
    "    def __getitem__(self, index):\n",
    "        return self.X_data[index]\n",
    "        \n",
    "    def __len__ (self):\n",
    "        return len(self.X_data)"
   ]
  },
  {
   "cell_type": "markdown",
   "metadata": {},
   "source": [
    "Učitavanje podataka"
   ]
  },
  {
   "cell_type": "code",
   "execution_count": 10,
   "metadata": {},
   "outputs": [
    {
     "name": "stdout",
     "output_type": "stream",
     "text": [
      "dim data_x = (30, 2)\n",
      "dim data_y = (30, 1)\n"
     ]
    }
   ],
   "source": [
    "data_x = np.load('./data-x.npy').astype(np.float32)\n",
    "data_y = np.load('./data-y.npy').astype(np.float32)\n",
    "\n",
    "m, n = data_x.shape\n",
    "\n",
    "print(\"dim data_x =\", data_x.shape)\n",
    "print(\"dim data_y =\", data_y.shape)"
   ]
  },
  {
   "cell_type": "markdown",
   "metadata": {},
   "source": [
    "Pretvaranje u tenzore"
   ]
  },
  {
   "cell_type": "code",
   "execution_count": 11,
   "metadata": {},
   "outputs": [],
   "source": [
    "train_data1 = trainData(torch.FloatTensor(data_x), torch.FloatTensor(data_y))\n",
    "\n",
    "train_loader1 = DataLoader(dataset = train_data1, batch_size = 1, shuffle = True)"
   ]
  },
  {
   "cell_type": "markdown",
   "metadata": {},
   "source": [
    "Klase za definiranje Dataseta i Dataloadera"
   ]
  },
  {
   "cell_type": "markdown",
   "metadata": {},
   "source": [
    "`CustomModel` je klasa koja za parametre prima:  \n",
    " * `sequential`, field za `torch.nn.modules.container.Sequential`\n",
    " * `get_weight`, metoda koja vraća težinu\n",
    " * `loss_function`, field koji prima funkciju troška\n",
    " * `train_loader`, DataLoader skupa za treniranje\n",
    " * `epochs`, broj iteracija treniranja modela\n",
    " * `learning_rate`, konstanta koja se množi s gradijentom (stopa učenja)\n",
    " * `max_iter`, maksimalni broj iteracija za učenje modela\n",
    " * `optim`, boolean koji dozvoljava ili onemogućuje optimizacijski korak u momentu učenja modela"
   ]
  },
  {
   "cell_type": "code",
   "execution_count": 326,
   "metadata": {},
   "outputs": [],
   "source": [
    "class CustomModel (nn.Module):\n",
    "    def __init__ (self, sequential, get_weight, loss_function, train_loader, epochs, learning_rate, optim):\n",
    "        super(CustomModel, self).__init__()\n",
    "        self.learning_rate = learning_rate\n",
    "        self.epochs = epochs\n",
    "        self.model = sequential\n",
    "        self.get_weight = get_weight\n",
    "        self.loss_fn = loss_function\n",
    "        self.loss_values = []\n",
    "        self.optim = optim\n",
    "        self.train_loader = train_loader\n",
    "        \n",
    "        if self.get_weight() != None:\n",
    "            self.model.apply(self.init_weights)\n",
    "        if self.optim == True:\n",
    "            self.optimizer = torch.optim.AdamW(self.model.parameters(), self.learning_rate)\n",
    "        \n",
    "    def init_weights (self, m):\n",
    "        with torch.no_grad():\n",
    "            if type(m) == nn.Linear:\n",
    "                m.weight.fill_(self.get_weight())\n",
    "        \n",
    "    def forward (self, X_batch):\n",
    "        return self.model(X_batch)\n",
    "    \n",
    "    def backward (self, y_pred, y_batch):\n",
    "        if self.optim == True: self.optimizer.zero_grad()\n",
    "            \n",
    "        loss = self.loss_fn(y_pred, y_batch)\n",
    "        loss.backward()\n",
    "        \n",
    "        if self.optim == False:\n",
    "            with torch.no_grad():\n",
    "                for w in self.model.parameters():\n",
    "                    w -= self.learning_rate * w.grad\n",
    "        else:\n",
    "            self.optimizer.step()\n",
    "                    \n",
    "        return loss.item()\n",
    "                \n",
    "    def train (self):\n",
    "        self.model.train()\n",
    "        for e in range(self.epochs):\n",
    "            epoch_loss = 0\n",
    "            for X_batch, y_batch in self.train_loader:\n",
    "                \n",
    "                y_pred = self.forward(X_batch)\n",
    "                epoch_loss += self.backward(y_pred, y_batch)\n",
    "                \n",
    "            self.loss_values.append(epoch_loss / len(self.train_loader))\n",
    "    \n",
    "    def draw_loss (self):\n",
    "        plt.plot(np.arange(self.epochs), self.loss_values, c = 'r')\n",
    "        plt.show()"
   ]
  },
  {
   "cell_type": "markdown",
   "metadata": {},
   "source": [
    "Određivanje veličine mreže"
   ]
  },
  {
   "cell_type": "code",
   "execution_count": 12,
   "metadata": {},
   "outputs": [],
   "source": [
    "inputSize = n\n",
    "hiddenSize = 100\n",
    "outputSize = 1"
   ]
  },
  {
   "cell_type": "markdown",
   "metadata": {},
   "source": [
    "### 1. Model \n",
    "> Aktivacijska funkcija je sigmoid, početne težine su sve postavljene na 10."
   ]
  },
  {
   "cell_type": "markdown",
   "metadata": {},
   "source": [
    "Specifikacije za prvi model"
   ]
  },
  {
   "cell_type": "code",
   "execution_count": 23,
   "metadata": {},
   "outputs": [],
   "source": [
    "sequential_1 = nn.Sequential(\n",
    "               nn.Linear(inputSize, hiddenSize),\n",
    "               nn.Sigmoid(),\n",
    "               nn.Linear(hiddenSize, outputSize))\n",
    "\n",
    "def get_weight_1 ():\n",
    "    return 10.0\n",
    "\n",
    "loss_function = nn.MSELoss()"
   ]
  },
  {
   "cell_type": "markdown",
   "metadata": {},
   "source": [
    "Treniranje prvog modela"
   ]
  },
  {
   "cell_type": "code",
   "execution_count": 24,
   "metadata": {},
   "outputs": [
    {
     "data": {
      "image/png": "[encoded data removed]",
      "text/plain": [
       "<Figure size 432x288 with 1 Axes>"
      ]
     },
     "metadata": {
      "needs_background": "light"
     },
     "output_type": "display_data"
    }
   ],
   "source": [
    "model1 = CustomModel(sequential_1, get_weight_1, loss_function, train_loader1, 50, 1e-4, True)\n",
    "model1.train()\n",
    "model1.draw_loss()"
   ]
  },
  {
   "cell_type": "markdown",
   "metadata": {},
   "source": [
    "Grafički prikaz funkcije troška"
   ]
  },
  {
   "cell_type": "markdown",
   "metadata": {},
   "source": [
    "### 2. Model"
   ]
  },
  {
   "cell_type": "markdown",
   "metadata": {},
   "source": [
    "> Aktivacijska funkcija je simoid, početne težine su slučajno generirani brojevi između 0-1"
   ]
  },
  {
   "cell_type": "markdown",
   "metadata": {},
   "source": [
    "Specifikacija drugog modela"
   ]
  },
  {
   "cell_type": "code",
   "execution_count": 34,
   "metadata": {},
   "outputs": [],
   "source": [
    "sequential_2 = nn.Sequential(\n",
    "               nn.Linear(inputSize, hiddenSize),\n",
    "               nn.Sigmoid(),\n",
    "               nn.Linear(hiddenSize, outputSize))\n",
    "\n",
    "def get_weight_2 ():\n",
    "    return np.random.rand()\n",
    "\n",
    "loss_function = nn.MSELoss()"
   ]
  },
  {
   "cell_type": "markdown",
   "metadata": {},
   "source": [
    "Treniranje drugog modela"
   ]
  },
  {
   "cell_type": "code",
   "execution_count": 35,
   "metadata": {},
   "outputs": [
    {
     "name": "stdout",
     "output_type": "stream",
     "text": [
      "Linear(in_features=2, out_features=100, bias=True)\n",
      "Linear(in_features=100, out_features=1, bias=True)\n"
     ]
    },
    {
     "data": {
      "image/png": "[encoded data removed]",
      "text/plain": [
       "<Figure size 432x288 with 1 Axes>"
      ]
     },
     "metadata": {
      "needs_background": "light"
     },
     "output_type": "display_data"
    }
   ],
   "source": [
    "model2 = CustomModel(sequential_2, get_weight_2, loss_function, train_loader1, 50, 1e-4, True)\n",
    "model2.train()\n",
    "model2.draw_loss()"
   ]
  },
  {
   "cell_type": "markdown",
   "metadata": {},
   "source": [
    "### 3. Model\n",
    ">aktivacijska funkcija je ReLU, početne težine su sve postavljene na 0"
   ]
  },
  {
   "cell_type": "markdown",
   "metadata": {},
   "source": [
    "Specifikacija trećeg modela"
   ]
  },
  {
   "cell_type": "code",
   "execution_count": 31,
   "metadata": {},
   "outputs": [],
   "source": [
    "sequential_3 = nn.Sequential(\n",
    "               nn.Linear(inputSize, hiddenSize),\n",
    "               nn.ReLU(),\n",
    "               nn.Linear(hiddenSize, outputSize))\n",
    "\n",
    "def get_weight_3 ():\n",
    "    return 0\n",
    "\n",
    "loss_function = nn.MSELoss()"
   ]
  },
  {
   "cell_type": "markdown",
   "metadata": {},
   "source": [
    "Treniranje trećeg modela"
   ]
  },
  {
   "cell_type": "code",
   "execution_count": 32,
   "metadata": {},
   "outputs": [
    {
     "data": {
      "image/png": "[encoded data removed]",
      "text/plain": [
       "<Figure size 432x288 with 1 Axes>"
      ]
     },
     "metadata": {
      "needs_background": "light"
     },
     "output_type": "display_data"
    }
   ],
   "source": [
    "model3 = CustomModel(sequential_3, get_weight_3, loss_function, train_loader1, 50, 1e-4, True)\n",
    "model3.train()\n",
    "model3.draw_loss()"
   ]
  },
  {
   "cell_type": "markdown",
   "metadata": {},
   "source": [
    "### 4. Model\n",
    ">Aktivacijska funkcija je ReLu, početne težine su slučajno generirani brojevi između 0-1"
   ]
  },
  {
   "cell_type": "markdown",
   "metadata": {},
   "source": [
    "Specifikacije četvrtog modela"
   ]
  },
  {
   "cell_type": "code",
   "execution_count": 14,
   "metadata": {},
   "outputs": [],
   "source": [
    "sequential_4 = nn.Sequential(\n",
    "               nn.Linear(inputSize, hiddenSize),\n",
    "               nn.ReLU(),\n",
    "               nn.Linear(hiddenSize, outputSize))\n",
    "\n",
    "def get_weight_4 ():\n",
    "    return np.random.rand()\n",
    "\n",
    "loss_function = nn.MSELoss()"
   ]
  },
  {
   "cell_type": "markdown",
   "metadata": {},
   "source": [
    "Treniranje četvrtog modela"
   ]
  },
  {
   "cell_type": "code",
   "execution_count": 15,
   "metadata": {},
   "outputs": [
    {
     "data": {
      "image/png": "[encoded data removed]",
      "text/plain": [
       "<Figure size 432x288 with 1 Axes>"
      ]
     },
     "metadata": {
      "needs_background": "light"
     },
     "output_type": "display_data"
    }
   ],
   "source": [
    "model4 = CustomModel(sequential_4, get_weight_4, loss_function, train_loader1, 50, 1e-4, False)\n",
    "model4.train()\n",
    "model4.draw_loss()"
   ]
  },
  {
   "cell_type": "markdown",
   "metadata": {},
   "source": [
    "**Komentari** \n",
    " * Najbrže se trenirao model koji za aktivacijsku funkciju ima Sigmoid, a težine su mu postavljene na vrijednosti između $[0, 1]$\n",
    " * Pogreške kod modela sa random vrijednostima između $[0, 1]$ su imali najveće vrijednosti funkcije troška, ali opet, i najbrže je ta pogreška degradirala\n"
   ]
  },
  {
   "cell_type": "markdown",
   "metadata": {},
   "source": [
    "## Zadatak 2\n",
    "\n",
    "1. Promotrimo dvosloju neuronsku mrežu kao na slici , koja ima dodatni parametar koji odgovara direktnoj vezi između ulaza i izlaza. Na vježbama smo detaljno proučili sličnu neuronsku mrežu koja nije imala taj dodatni parametar. Analogno tome, provedite backpropagacijski algoritam i zapišite sve parcijalne derivacije.  \n",
    "<img src=\"./zadatak_2.png\" width = \"30%\">\n",
    "\n",
    "2. Implementirajte navedenu neuronsku mrežu i proces njenog učenja. Generirajte neki skup podataka koristeći `sklearn.datasets.make_regression`  i naučite ga na implementiranoj mreži. "
   ]
  },
  {
   "cell_type": "code",
   "execution_count": null,
   "metadata": {},
   "outputs": [],
   "source": [
    "# Vaš kod"
   ]
  },
  {
   "cell_type": "markdown",
   "metadata": {},
   "source": [
    "## Zadatak 3\n",
    "\n",
    "Zadani su vam podaci `employees.csv`, predstavljeni na vježbama. <br>\n",
    "Vaš je zadatak klaisficirati dane podatke koristeći neuronsku mrežu. <br>\n",
    "Arhitektura mreže, izbor hiperparametara je proizvoljan. <br>\n",
    "Također, u procesu učenja upotrijebite neke od pokazanih metoda. "
   ]
  },
  {
   "cell_type": "code",
   "execution_count": 37,
   "metadata": {},
   "outputs": [
    {
     "data": {
      "text/html": [
       "<div>\n",
       "<style scoped>\n",
       "    .dataframe tbody tr th:only-of-type {\n",
       "        vertical-align: middle;\n",
       "    }\n",
       "\n",
       "    .dataframe tbody tr th {\n",
       "        vertical-align: top;\n",
       "    }\n",
       "\n",
       "    .dataframe thead th {\n",
       "        text-align: right;\n",
       "    }\n",
       "</style>\n",
       "<table border=\"1\" class=\"dataframe\">\n",
       "  <thead>\n",
       "    <tr style=\"text-align: right;\">\n",
       "      <th></th>\n",
       "      <th>RowNumber</th>\n",
       "      <th>CustomerId</th>\n",
       "      <th>Surname</th>\n",
       "      <th>CreditScore</th>\n",
       "      <th>Geography</th>\n",
       "      <th>Gender</th>\n",
       "      <th>Age</th>\n",
       "      <th>Tenure</th>\n",
       "      <th>Balance</th>\n",
       "      <th>NumOfProducts</th>\n",
       "      <th>HasCrCard</th>\n",
       "      <th>IsActiveMember</th>\n",
       "      <th>EstimatedSalary</th>\n",
       "      <th>Exited</th>\n",
       "    </tr>\n",
       "  </thead>\n",
       "  <tbody>\n",
       "    <tr>\n",
       "      <th>0</th>\n",
       "      <td>1</td>\n",
       "      <td>15634602</td>\n",
       "      <td>Hargrave</td>\n",
       "      <td>619</td>\n",
       "      <td>France</td>\n",
       "      <td>Female</td>\n",
       "      <td>42</td>\n",
       "      <td>2</td>\n",
       "      <td>0.00</td>\n",
       "      <td>1</td>\n",
       "      <td>1</td>\n",
       "      <td>1</td>\n",
       "      <td>101348.88</td>\n",
       "      <td>1</td>\n",
       "    </tr>\n",
       "    <tr>\n",
       "      <th>1</th>\n",
       "      <td>2</td>\n",
       "      <td>15647311</td>\n",
       "      <td>Hill</td>\n",
       "      <td>608</td>\n",
       "      <td>Spain</td>\n",
       "      <td>Female</td>\n",
       "      <td>41</td>\n",
       "      <td>1</td>\n",
       "      <td>83807.86</td>\n",
       "      <td>1</td>\n",
       "      <td>0</td>\n",
       "      <td>1</td>\n",
       "      <td>112542.58</td>\n",
       "      <td>0</td>\n",
       "    </tr>\n",
       "    <tr>\n",
       "      <th>2</th>\n",
       "      <td>3</td>\n",
       "      <td>15619304</td>\n",
       "      <td>Onio</td>\n",
       "      <td>502</td>\n",
       "      <td>France</td>\n",
       "      <td>Female</td>\n",
       "      <td>42</td>\n",
       "      <td>8</td>\n",
       "      <td>159660.80</td>\n",
       "      <td>3</td>\n",
       "      <td>1</td>\n",
       "      <td>0</td>\n",
       "      <td>113931.57</td>\n",
       "      <td>1</td>\n",
       "    </tr>\n",
       "    <tr>\n",
       "      <th>3</th>\n",
       "      <td>4</td>\n",
       "      <td>15701354</td>\n",
       "      <td>Boni</td>\n",
       "      <td>699</td>\n",
       "      <td>France</td>\n",
       "      <td>Female</td>\n",
       "      <td>39</td>\n",
       "      <td>1</td>\n",
       "      <td>0.00</td>\n",
       "      <td>2</td>\n",
       "      <td>0</td>\n",
       "      <td>0</td>\n",
       "      <td>93826.63</td>\n",
       "      <td>0</td>\n",
       "    </tr>\n",
       "    <tr>\n",
       "      <th>4</th>\n",
       "      <td>5</td>\n",
       "      <td>15737888</td>\n",
       "      <td>Mitchell</td>\n",
       "      <td>850</td>\n",
       "      <td>Spain</td>\n",
       "      <td>Female</td>\n",
       "      <td>43</td>\n",
       "      <td>2</td>\n",
       "      <td>125510.82</td>\n",
       "      <td>1</td>\n",
       "      <td>1</td>\n",
       "      <td>1</td>\n",
       "      <td>79084.10</td>\n",
       "      <td>0</td>\n",
       "    </tr>\n",
       "    <tr>\n",
       "      <th>...</th>\n",
       "      <td>...</td>\n",
       "      <td>...</td>\n",
       "      <td>...</td>\n",
       "      <td>...</td>\n",
       "      <td>...</td>\n",
       "      <td>...</td>\n",
       "      <td>...</td>\n",
       "      <td>...</td>\n",
       "      <td>...</td>\n",
       "      <td>...</td>\n",
       "      <td>...</td>\n",
       "      <td>...</td>\n",
       "      <td>...</td>\n",
       "      <td>...</td>\n",
       "    </tr>\n",
       "    <tr>\n",
       "      <th>9995</th>\n",
       "      <td>9996</td>\n",
       "      <td>15606229</td>\n",
       "      <td>Obijiaku</td>\n",
       "      <td>771</td>\n",
       "      <td>France</td>\n",
       "      <td>Male</td>\n",
       "      <td>39</td>\n",
       "      <td>5</td>\n",
       "      <td>0.00</td>\n",
       "      <td>2</td>\n",
       "      <td>1</td>\n",
       "      <td>0</td>\n",
       "      <td>96270.64</td>\n",
       "      <td>0</td>\n",
       "    </tr>\n",
       "    <tr>\n",
       "      <th>9996</th>\n",
       "      <td>9997</td>\n",
       "      <td>15569892</td>\n",
       "      <td>Johnstone</td>\n",
       "      <td>516</td>\n",
       "      <td>France</td>\n",
       "      <td>Male</td>\n",
       "      <td>35</td>\n",
       "      <td>10</td>\n",
       "      <td>57369.61</td>\n",
       "      <td>1</td>\n",
       "      <td>1</td>\n",
       "      <td>1</td>\n",
       "      <td>101699.77</td>\n",
       "      <td>0</td>\n",
       "    </tr>\n",
       "    <tr>\n",
       "      <th>9997</th>\n",
       "      <td>9998</td>\n",
       "      <td>15584532</td>\n",
       "      <td>Liu</td>\n",
       "      <td>709</td>\n",
       "      <td>France</td>\n",
       "      <td>Female</td>\n",
       "      <td>36</td>\n",
       "      <td>7</td>\n",
       "      <td>0.00</td>\n",
       "      <td>1</td>\n",
       "      <td>0</td>\n",
       "      <td>1</td>\n",
       "      <td>42085.58</td>\n",
       "      <td>1</td>\n",
       "    </tr>\n",
       "    <tr>\n",
       "      <th>9998</th>\n",
       "      <td>9999</td>\n",
       "      <td>15682355</td>\n",
       "      <td>Sabbatini</td>\n",
       "      <td>772</td>\n",
       "      <td>Germany</td>\n",
       "      <td>Male</td>\n",
       "      <td>42</td>\n",
       "      <td>3</td>\n",
       "      <td>75075.31</td>\n",
       "      <td>2</td>\n",
       "      <td>1</td>\n",
       "      <td>0</td>\n",
       "      <td>92888.52</td>\n",
       "      <td>1</td>\n",
       "    </tr>\n",
       "    <tr>\n",
       "      <th>9999</th>\n",
       "      <td>10000</td>\n",
       "      <td>15628319</td>\n",
       "      <td>Walker</td>\n",
       "      <td>792</td>\n",
       "      <td>France</td>\n",
       "      <td>Female</td>\n",
       "      <td>28</td>\n",
       "      <td>4</td>\n",
       "      <td>130142.79</td>\n",
       "      <td>1</td>\n",
       "      <td>1</td>\n",
       "      <td>0</td>\n",
       "      <td>38190.78</td>\n",
       "      <td>0</td>\n",
       "    </tr>\n",
       "  </tbody>\n",
       "</table>\n",
       "<p>10000 rows × 14 columns</p>\n",
       "</div>"
      ],
      "text/plain": [
       "      RowNumber  CustomerId    Surname  CreditScore Geography  Gender  Age  \\\n",
       "0             1    15634602   Hargrave          619    France  Female   42   \n",
       "1             2    15647311       Hill          608     Spain  Female   41   \n",
       "2             3    15619304       Onio          502    France  Female   42   \n",
       "3             4    15701354       Boni          699    France  Female   39   \n",
       "4             5    15737888   Mitchell          850     Spain  Female   43   \n",
       "...         ...         ...        ...          ...       ...     ...  ...   \n",
       "9995       9996    15606229   Obijiaku          771    France    Male   39   \n",
       "9996       9997    15569892  Johnstone          516    France    Male   35   \n",
       "9997       9998    15584532        Liu          709    France  Female   36   \n",
       "9998       9999    15682355  Sabbatini          772   Germany    Male   42   \n",
       "9999      10000    15628319     Walker          792    France  Female   28   \n",
       "\n",
       "      Tenure    Balance  NumOfProducts  HasCrCard  IsActiveMember  \\\n",
       "0          2       0.00              1          1               1   \n",
       "1          1   83807.86              1          0               1   \n",
       "2          8  159660.80              3          1               0   \n",
       "3          1       0.00              2          0               0   \n",
       "4          2  125510.82              1          1               1   \n",
       "...      ...        ...            ...        ...             ...   \n",
       "9995       5       0.00              2          1               0   \n",
       "9996      10   57369.61              1          1               1   \n",
       "9997       7       0.00              1          0               1   \n",
       "9998       3   75075.31              2          1               0   \n",
       "9999       4  130142.79              1          1               0   \n",
       "\n",
       "      EstimatedSalary  Exited  \n",
       "0           101348.88       1  \n",
       "1           112542.58       0  \n",
       "2           113931.57       1  \n",
       "3            93826.63       0  \n",
       "4            79084.10       0  \n",
       "...               ...     ...  \n",
       "9995         96270.64       0  \n",
       "9996        101699.77       0  \n",
       "9997         42085.58       1  \n",
       "9998         92888.52       1  \n",
       "9999         38190.78       0  \n",
       "\n",
       "[10000 rows x 14 columns]"
      ]
     },
     "execution_count": 37,
     "metadata": {},
     "output_type": "execute_result"
    }
   ],
   "source": [
    "employees = pd.read_csv('./employees.csv')\n",
    "employees"
   ]
  },
  {
   "cell_type": "markdown",
   "metadata": {},
   "source": [
    "Izmjenimo određene stupce `employees.csv` filea"
   ]
  },
  {
   "cell_type": "code",
   "execution_count": 38,
   "metadata": {},
   "outputs": [],
   "source": [
    "employees_edited = employees.copy()"
   ]
  },
  {
   "cell_type": "markdown",
   "metadata": {},
   "source": [
    "Grafički prikazi podataka:\n",
    " * CreditScore"
   ]
  },
  {
   "cell_type": "code",
   "execution_count": 39,
   "metadata": {},
   "outputs": [
    {
     "data": {
      "image/png": "[encoded data removed]",
      "text/plain": [
       "<Figure size 432x288 with 1 Axes>"
      ]
     },
     "metadata": {
      "needs_background": "light"
     },
     "output_type": "display_data"
    }
   ],
   "source": [
    "plt.hist(employees['Exited'])\n",
    "plt.show()"
   ]
  },
  {
   "cell_type": "markdown",
   "metadata": {},
   "source": [
    " * Balance"
   ]
  },
  {
   "cell_type": "code",
   "execution_count": 19,
   "metadata": {},
   "outputs": [
    {
     "data": {
      "image/png": "[encoded data removed]",
      "text/plain": [
       "<Figure size 432x288 with 1 Axes>"
      ]
     },
     "metadata": {
      "needs_background": "light"
     },
     "output_type": "display_data"
    }
   ],
   "source": [
    "plt.hist(employees['Balance'])\n",
    "plt.show()"
   ]
  },
  {
   "cell_type": "markdown",
   "metadata": {},
   "source": [
    " * Age"
   ]
  },
  {
   "cell_type": "code",
   "execution_count": 20,
   "metadata": {},
   "outputs": [
    {
     "data": {
      "image/png": "[encoded data removed]",
      "text/plain": [
       "<Figure size 432x288 with 1 Axes>"
      ]
     },
     "metadata": {
      "needs_background": "light"
     },
     "output_type": "display_data"
    }
   ],
   "source": [
    "plt.hist(employees['Age'])\n",
    "plt.show()"
   ]
  },
  {
   "cell_type": "code",
   "execution_count": 40,
   "metadata": {},
   "outputs": [],
   "source": [
    "le = LabelEncoder()\n",
    "scaler = StandardScaler()\n",
    "\n",
    "employees_edited['Geography'] = le.fit_transform(employees_edited['Geography'])\n",
    "employees_edited['Gender'] = le.fit_transform(employees_edited['Gender'])\n",
    "\n",
    "employees_edited['CreditScore'] = scaler.fit_transform(employees_edited['CreditScore'].to_numpy().reshape(-1, 1))\n",
    "employees_edited['Balance'] = scaler.fit_transform(employees_edited['Balance'].to_numpy().reshape(-1, 1))\n",
    "employees_edited['EstimatedSalary'] = scaler.fit_transform(employees_edited['EstimatedSalary'].to_numpy().reshape(-1, 1))\n",
    "employees_edited['Age'] = scaler.fit_transform(employees_edited['Age'].to_numpy().reshape(-1, 1))"
   ]
  },
  {
   "cell_type": "code",
   "execution_count": 41,
   "metadata": {},
   "outputs": [
    {
     "data": {
      "text/html": [
       "<div>\n",
       "<style scoped>\n",
       "    .dataframe tbody tr th:only-of-type {\n",
       "        vertical-align: middle;\n",
       "    }\n",
       "\n",
       "    .dataframe tbody tr th {\n",
       "        vertical-align: top;\n",
       "    }\n",
       "\n",
       "    .dataframe thead th {\n",
       "        text-align: right;\n",
       "    }\n",
       "</style>\n",
       "<table border=\"1\" class=\"dataframe\">\n",
       "  <thead>\n",
       "    <tr style=\"text-align: right;\">\n",
       "      <th></th>\n",
       "      <th>RowNumber</th>\n",
       "      <th>CustomerId</th>\n",
       "      <th>Surname</th>\n",
       "      <th>CreditScore</th>\n",
       "      <th>Geography</th>\n",
       "      <th>Gender</th>\n",
       "      <th>Age</th>\n",
       "      <th>Tenure</th>\n",
       "      <th>Balance</th>\n",
       "      <th>NumOfProducts</th>\n",
       "      <th>HasCrCard</th>\n",
       "      <th>IsActiveMember</th>\n",
       "      <th>EstimatedSalary</th>\n",
       "      <th>Exited</th>\n",
       "    </tr>\n",
       "  </thead>\n",
       "  <tbody>\n",
       "    <tr>\n",
       "      <th>0</th>\n",
       "      <td>1</td>\n",
       "      <td>15634602</td>\n",
       "      <td>Hargrave</td>\n",
       "      <td>-0.326221</td>\n",
       "      <td>0</td>\n",
       "      <td>0</td>\n",
       "      <td>0.293517</td>\n",
       "      <td>2</td>\n",
       "      <td>-1.225848</td>\n",
       "      <td>1</td>\n",
       "      <td>1</td>\n",
       "      <td>1</td>\n",
       "      <td>0.021886</td>\n",
       "      <td>1</td>\n",
       "    </tr>\n",
       "    <tr>\n",
       "      <th>1</th>\n",
       "      <td>2</td>\n",
       "      <td>15647311</td>\n",
       "      <td>Hill</td>\n",
       "      <td>-0.440036</td>\n",
       "      <td>2</td>\n",
       "      <td>0</td>\n",
       "      <td>0.198164</td>\n",
       "      <td>1</td>\n",
       "      <td>0.117350</td>\n",
       "      <td>1</td>\n",
       "      <td>0</td>\n",
       "      <td>1</td>\n",
       "      <td>0.216534</td>\n",
       "      <td>0</td>\n",
       "    </tr>\n",
       "    <tr>\n",
       "      <th>2</th>\n",
       "      <td>3</td>\n",
       "      <td>15619304</td>\n",
       "      <td>Onio</td>\n",
       "      <td>-1.536794</td>\n",
       "      <td>0</td>\n",
       "      <td>0</td>\n",
       "      <td>0.293517</td>\n",
       "      <td>8</td>\n",
       "      <td>1.333053</td>\n",
       "      <td>3</td>\n",
       "      <td>1</td>\n",
       "      <td>0</td>\n",
       "      <td>0.240687</td>\n",
       "      <td>1</td>\n",
       "    </tr>\n",
       "    <tr>\n",
       "      <th>3</th>\n",
       "      <td>4</td>\n",
       "      <td>15701354</td>\n",
       "      <td>Boni</td>\n",
       "      <td>0.501521</td>\n",
       "      <td>0</td>\n",
       "      <td>0</td>\n",
       "      <td>0.007457</td>\n",
       "      <td>1</td>\n",
       "      <td>-1.225848</td>\n",
       "      <td>2</td>\n",
       "      <td>0</td>\n",
       "      <td>0</td>\n",
       "      <td>-0.108918</td>\n",
       "      <td>0</td>\n",
       "    </tr>\n",
       "    <tr>\n",
       "      <th>4</th>\n",
       "      <td>5</td>\n",
       "      <td>15737888</td>\n",
       "      <td>Mitchell</td>\n",
       "      <td>2.063884</td>\n",
       "      <td>2</td>\n",
       "      <td>0</td>\n",
       "      <td>0.388871</td>\n",
       "      <td>2</td>\n",
       "      <td>0.785728</td>\n",
       "      <td>1</td>\n",
       "      <td>1</td>\n",
       "      <td>1</td>\n",
       "      <td>-0.365276</td>\n",
       "      <td>0</td>\n",
       "    </tr>\n",
       "    <tr>\n",
       "      <th>...</th>\n",
       "      <td>...</td>\n",
       "      <td>...</td>\n",
       "      <td>...</td>\n",
       "      <td>...</td>\n",
       "      <td>...</td>\n",
       "      <td>...</td>\n",
       "      <td>...</td>\n",
       "      <td>...</td>\n",
       "      <td>...</td>\n",
       "      <td>...</td>\n",
       "      <td>...</td>\n",
       "      <td>...</td>\n",
       "      <td>...</td>\n",
       "      <td>...</td>\n",
       "    </tr>\n",
       "    <tr>\n",
       "      <th>9995</th>\n",
       "      <td>9996</td>\n",
       "      <td>15606229</td>\n",
       "      <td>Obijiaku</td>\n",
       "      <td>1.246488</td>\n",
       "      <td>0</td>\n",
       "      <td>1</td>\n",
       "      <td>0.007457</td>\n",
       "      <td>5</td>\n",
       "      <td>-1.225848</td>\n",
       "      <td>2</td>\n",
       "      <td>1</td>\n",
       "      <td>0</td>\n",
       "      <td>-0.066419</td>\n",
       "      <td>0</td>\n",
       "    </tr>\n",
       "    <tr>\n",
       "      <th>9996</th>\n",
       "      <td>9997</td>\n",
       "      <td>15569892</td>\n",
       "      <td>Johnstone</td>\n",
       "      <td>-1.391939</td>\n",
       "      <td>0</td>\n",
       "      <td>1</td>\n",
       "      <td>-0.373958</td>\n",
       "      <td>10</td>\n",
       "      <td>-0.306379</td>\n",
       "      <td>1</td>\n",
       "      <td>1</td>\n",
       "      <td>1</td>\n",
       "      <td>0.027988</td>\n",
       "      <td>0</td>\n",
       "    </tr>\n",
       "    <tr>\n",
       "      <th>9997</th>\n",
       "      <td>9998</td>\n",
       "      <td>15584532</td>\n",
       "      <td>Liu</td>\n",
       "      <td>0.604988</td>\n",
       "      <td>0</td>\n",
       "      <td>0</td>\n",
       "      <td>-0.278604</td>\n",
       "      <td>7</td>\n",
       "      <td>-1.225848</td>\n",
       "      <td>1</td>\n",
       "      <td>0</td>\n",
       "      <td>1</td>\n",
       "      <td>-1.008643</td>\n",
       "      <td>1</td>\n",
       "    </tr>\n",
       "    <tr>\n",
       "      <th>9998</th>\n",
       "      <td>9999</td>\n",
       "      <td>15682355</td>\n",
       "      <td>Sabbatini</td>\n",
       "      <td>1.256835</td>\n",
       "      <td>1</td>\n",
       "      <td>1</td>\n",
       "      <td>0.293517</td>\n",
       "      <td>3</td>\n",
       "      <td>-0.022608</td>\n",
       "      <td>2</td>\n",
       "      <td>1</td>\n",
       "      <td>0</td>\n",
       "      <td>-0.125231</td>\n",
       "      <td>1</td>\n",
       "    </tr>\n",
       "    <tr>\n",
       "      <th>9999</th>\n",
       "      <td>10000</td>\n",
       "      <td>15628319</td>\n",
       "      <td>Walker</td>\n",
       "      <td>1.463771</td>\n",
       "      <td>0</td>\n",
       "      <td>0</td>\n",
       "      <td>-1.041433</td>\n",
       "      <td>4</td>\n",
       "      <td>0.859965</td>\n",
       "      <td>1</td>\n",
       "      <td>1</td>\n",
       "      <td>0</td>\n",
       "      <td>-1.076370</td>\n",
       "      <td>0</td>\n",
       "    </tr>\n",
       "  </tbody>\n",
       "</table>\n",
       "<p>10000 rows × 14 columns</p>\n",
       "</div>"
      ],
      "text/plain": [
       "      RowNumber  CustomerId    Surname  CreditScore  Geography  Gender  \\\n",
       "0             1    15634602   Hargrave    -0.326221          0       0   \n",
       "1             2    15647311       Hill    -0.440036          2       0   \n",
       "2             3    15619304       Onio    -1.536794          0       0   \n",
       "3             4    15701354       Boni     0.501521          0       0   \n",
       "4             5    15737888   Mitchell     2.063884          2       0   \n",
       "...         ...         ...        ...          ...        ...     ...   \n",
       "9995       9996    15606229   Obijiaku     1.246488          0       1   \n",
       "9996       9997    15569892  Johnstone    -1.391939          0       1   \n",
       "9997       9998    15584532        Liu     0.604988          0       0   \n",
       "9998       9999    15682355  Sabbatini     1.256835          1       1   \n",
       "9999      10000    15628319     Walker     1.463771          0       0   \n",
       "\n",
       "           Age  Tenure   Balance  NumOfProducts  HasCrCard  IsActiveMember  \\\n",
       "0     0.293517       2 -1.225848              1          1               1   \n",
       "1     0.198164       1  0.117350              1          0               1   \n",
       "2     0.293517       8  1.333053              3          1               0   \n",
       "3     0.007457       1 -1.225848              2          0               0   \n",
       "4     0.388871       2  0.785728              1          1               1   \n",
       "...        ...     ...       ...            ...        ...             ...   \n",
       "9995  0.007457       5 -1.225848              2          1               0   \n",
       "9996 -0.373958      10 -0.306379              1          1               1   \n",
       "9997 -0.278604       7 -1.225848              1          0               1   \n",
       "9998  0.293517       3 -0.022608              2          1               0   \n",
       "9999 -1.041433       4  0.859965              1          1               0   \n",
       "\n",
       "      EstimatedSalary  Exited  \n",
       "0            0.021886       1  \n",
       "1            0.216534       0  \n",
       "2            0.240687       1  \n",
       "3           -0.108918       0  \n",
       "4           -0.365276       0  \n",
       "...               ...     ...  \n",
       "9995        -0.066419       0  \n",
       "9996         0.027988       0  \n",
       "9997        -1.008643       1  \n",
       "9998        -0.125231       1  \n",
       "9999        -1.076370       0  \n",
       "\n",
       "[10000 rows x 14 columns]"
      ]
     },
     "execution_count": 41,
     "metadata": {},
     "output_type": "execute_result"
    }
   ],
   "source": [
    "employees_edited"
   ]
  },
  {
   "cell_type": "code",
   "execution_count": 44,
   "metadata": {},
   "outputs": [],
   "source": [
    "X = employees_edited.to_numpy()[:, 3:-1].astype(np.float32)\n",
    "y = employees_edited.to_numpy()[:, -1].astype(np.float32)"
   ]
  },
  {
   "cell_type": "markdown",
   "metadata": {},
   "source": [
    "Podjela na skup za treniranje i testiranje"
   ]
  },
  {
   "cell_type": "code",
   "execution_count": 45,
   "metadata": {},
   "outputs": [],
   "source": [
    "X_train, X_test, y_train, y_test = train_test_split(X, y, test_size=0.33, random_state=42)"
   ]
  },
  {
   "cell_type": "code",
   "execution_count": 97,
   "metadata": {},
   "outputs": [],
   "source": [
    "train_data = trainData(torch.FloatTensor(X_train), torch.FloatTensor(y_train.reshape(-1, 1)))\n",
    "test_data = testData(torch.FloatTensor(X_test))\n",
    "\n",
    "train_loader = DataLoader(dataset = train_data, batch_size = 32, shuffle = True)\n",
    "test_loader = DataLoader(dataset = test_data, batch_size = 1)"
   ]
  },
  {
   "cell_type": "markdown",
   "metadata": {},
   "source": [
    "Definiranje veličine slojeva mreže"
   ]
  },
  {
   "cell_type": "code",
   "execution_count": 225,
   "metadata": {},
   "outputs": [],
   "source": [
    "inputSize = X.shape[1]\n",
    "hiddenSize1 = 32\n",
    "hiddenSize2 = 32\n",
    "hiddenSize3 = 32\n",
    "outputSize = 1"
   ]
  },
  {
   "cell_type": "markdown",
   "metadata": {},
   "source": [
    "Izgradnja i treniranje modela"
   ]
  },
  {
   "cell_type": "markdown",
   "metadata": {},
   "source": [
    "### Primjer 1"
   ]
  },
  {
   "cell_type": "code",
   "execution_count": 307,
   "metadata": {},
   "outputs": [],
   "source": [
    "employees_model = nn.Sequential(\n",
    "                  nn.Linear(inputSize, hiddenSize1),\n",
    "                  nn.ReLU(),\n",
    "                  nn.Dropout(p = 0.2),\n",
    "                  nn.Linear(hiddenSize1, hiddenSize2),\n",
    "                  nn.ReLU(),\n",
    "                  nn.Dropout(p = 0.2),\n",
    "                  nn.Linear(hiddenSize2, hiddenSize3),\n",
    "                  nn.Sigmoid(),\n",
    "                  nn.Dropout(p = 0.1),\n",
    "                  nn.Linear(hiddenSize3, outputSize))\n",
    "\n",
    "neg_class_num = len(employees[employees['Exited'] == 0])\n",
    "pos_class_num = len(employees[employees['Exited'] == 1])\n",
    "\n",
    "# Povecanje tezina za labele definirane s 1, jer imamo unbalanced dataset \n",
    "loss_function = nn.BCEWithLogitsLoss(pos_weight = torch.tensor([neg_class_num/pos_class_num])) \n",
    "\n",
    "def get_weight ():\n",
    "    pass"
   ]
  },
  {
   "cell_type": "markdown",
   "metadata": {},
   "source": [
    "Treniranje prvog modela (Optimizer: `SGD`)"
   ]
  },
  {
   "cell_type": "code",
   "execution_count": 308,
   "metadata": {},
   "outputs": [
    {
     "data": {
      "image/png": "[encoded data removed]",
      "text/plain": [
       "<Figure size 432x288 with 1 Axes>"
      ]
     },
     "metadata": {
      "needs_background": "light"
     },
     "output_type": "display_data"
    }
   ],
   "source": [
    "my_model = CustomModel(employees_model, get_weight, loss_function, train_loader, 3000, 1e-4, True)\n",
    "my_model.train()\n",
    "my_model.draw_loss()"
   ]
  },
  {
   "cell_type": "markdown",
   "metadata": {},
   "source": [
    "Testiranje prvog modela"
   ]
  },
  {
   "cell_type": "code",
   "execution_count": 309,
   "metadata": {},
   "outputs": [],
   "source": [
    "y_pred_list = []\n",
    "my_model.model.eval()\n",
    "with torch.no_grad():\n",
    "    for X_batch in test_loader:        \n",
    "        y_test_pred = my_model.model(X_batch)\n",
    "        y_test_pred = torch.sigmoid(y_test_pred)\n",
    "        y_pred_tag = torch.round(y_test_pred)\n",
    "        y_pred_list.append(y_pred_tag)"
   ]
  },
  {
   "cell_type": "markdown",
   "metadata": {},
   "source": [
    "Preciznost prvog modela"
   ]
  },
  {
   "cell_type": "code",
   "execution_count": 310,
   "metadata": {},
   "outputs": [
    {
     "name": "stdout",
     "output_type": "stream",
     "text": [
      "Accuracy score:  0.7951515151515152\n"
     ]
    }
   ],
   "source": [
    "print(\"Accuracy score: \", accuracy_score(y_test, y_pred_list))"
   ]
  },
  {
   "cell_type": "markdown",
   "metadata": {},
   "source": [
    "Confusion matrix"
   ]
  },
  {
   "cell_type": "code",
   "execution_count": 311,
   "metadata": {},
   "outputs": [],
   "source": [
    "tn, fp, fn, tp = confusion_matrix(y_test, y_pred_list).ravel()"
   ]
  },
  {
   "cell_type": "code",
   "execution_count": 312,
   "metadata": {},
   "outputs": [
    {
     "name": "stdout",
     "output_type": "stream",
     "text": [
      "--------------Stayed--------------Exited---------\n",
      "Stayed | True positive: 478  | False negative: 165\n",
      "Exited | False positive: 511 | True negative: 2146\n"
     ]
    }
   ],
   "source": [
    "print(\"--------------Stayed--------------Exited---------\")\n",
    "print(\"Stayed | True positive: {}  | False negative: {}\".format(tp, fn))\n",
    "print(\"Exited | False positive: {} | True negative: {}\".format(fp, tn))"
   ]
  },
  {
   "cell_type": "code",
   "execution_count": 316,
   "metadata": {},
   "outputs": [
    {
     "name": "stdout",
     "output_type": "stream",
     "text": [
      "F1 score: 0.5857843137254902\n",
      "Youden's index: 0.5510681898398024\n",
      "Matthews correlation coefficient: 0.47644029779807945\n"
     ]
    }
   ],
   "source": [
    "f1 = (2*tp)/(2*tp + fn + fp)\n",
    "youden = tp/(tp + fn) + tn/(tn + fp) - 1\n",
    "phi_coef = (tp * tn - fp * fn)/(np.sqrt((tp + fp)*(tp + fn)*(tn + fp)*(tn + fn)))\n",
    "\n",
    "print(\"F1 score:\", f1)\n",
    "print(\"Youden's index:\", youden)\n",
    "print(\"Matthews correlation coefficient:\", phi_coef)"
   ]
  },
  {
   "cell_type": "markdown",
   "metadata": {},
   "source": [
    "### Primjer 2"
   ]
  },
  {
   "cell_type": "code",
   "execution_count": 325,
   "metadata": {},
   "outputs": [],
   "source": [
    "inputSize = X.shape[1]\n",
    "hiddenSize1_2 = 64\n",
    "hiddenSize2_2 = 64\n",
    "hiddenSize3_2 = 64\n",
    "outputSize = 1"
   ]
  },
  {
   "cell_type": "code",
   "execution_count": 327,
   "metadata": {},
   "outputs": [],
   "source": [
    "employees_model_2 = nn.Sequential(\n",
    "                  nn.Linear(inputSize, hiddenSize1_2),\n",
    "                  nn.SELU(),\n",
    "                  nn.AlphaDropout(p = 0.5),\n",
    "                  nn.Linear(hiddenSize1_2, hiddenSize2_2),\n",
    "                  nn.SELU(),\n",
    "                  nn.AlphaDropout(p = 0.5),\n",
    "                  nn.Linear(hiddenSize2_2, hiddenSize3_2),\n",
    "                  nn.Sigmoid(),\n",
    "                  nn.AlphaDropout(p = 0.5),\n",
    "                  nn.Linear(hiddenSize3_2, outputSize))"
   ]
  },
  {
   "cell_type": "markdown",
   "metadata": {},
   "source": [
    "Treniranje drugog modela (Optimizer: `AdamW`)"
   ]
  },
  {
   "cell_type": "code",
   "execution_count": 328,
   "metadata": {},
   "outputs": [
    {
     "data": {
      "image/png": "[encoded data removed]",
      "text/plain": [
       "<Figure size 432x288 with 1 Axes>"
      ]
     },
     "metadata": {
      "needs_background": "light"
     },
     "output_type": "display_data"
    }
   ],
   "source": [
    "my_model_2 = CustomModel(employees_model_2, get_weight, loss_function, train_loader, 3000, 1e-4, True)\n",
    "my_model_2.train()\n",
    "my_model_2.draw_loss()"
   ]
  },
  {
   "cell_type": "markdown",
   "metadata": {},
   "source": [
    "Testiranje drugog modela"
   ]
  },
  {
   "cell_type": "code",
   "execution_count": 329,
   "metadata": {},
   "outputs": [],
   "source": [
    "y_pred_list_2 = []\n",
    "my_model_2.model.eval()\n",
    "with torch.no_grad():\n",
    "    for X_batch in test_loader:        \n",
    "        y_test_pred_2 = my_model_2.model(X_batch)\n",
    "        y_test_pred_2 = torch.sigmoid(y_test_pred_2)\n",
    "        y_pred_tag_2 = torch.round(y_test_pred_2)\n",
    "        y_pred_list_2.append(y_pred_tag_2)"
   ]
  },
  {
   "cell_type": "markdown",
   "metadata": {},
   "source": [
    "Preciznost drugog modela"
   ]
  },
  {
   "cell_type": "code",
   "execution_count": 330,
   "metadata": {},
   "outputs": [
    {
     "name": "stdout",
     "output_type": "stream",
     "text": [
      "Accuracy score:  0.7287878787878788\n"
     ]
    }
   ],
   "source": [
    "print(\"Accuracy score: \", accuracy_score(y_test, y_pred_list_2))"
   ]
  },
  {
   "cell_type": "markdown",
   "metadata": {},
   "source": [
    "Confusion matrix"
   ]
  },
  {
   "cell_type": "code",
   "execution_count": 331,
   "metadata": {},
   "outputs": [],
   "source": [
    "tn_2, fp_2, fn_2, tp_2 = confusion_matrix(y_test, y_pred_list_2).ravel()"
   ]
  },
  {
   "cell_type": "code",
   "execution_count": 332,
   "metadata": {},
   "outputs": [
    {
     "name": "stdout",
     "output_type": "stream",
     "text": [
      "--------------Stayed--------------Exited---------\n",
      "Stayed | True positive: 493  | False negative: 150\n",
      "Exited | False positive: 745 | True negative: 1912\n"
     ]
    }
   ],
   "source": [
    "print(\"--------------Stayed--------------Exited---------\")\n",
    "print(\"Stayed | True positive: {}  | False negative: {}\".format(tp_2, fn_2))\n",
    "print(\"Exited | False positive: {} | True negative: {}\".format(fp_2, tn_2))"
   ]
  },
  {
   "cell_type": "code",
   "execution_count": 333,
   "metadata": {},
   "outputs": [
    {
     "name": "stdout",
     "output_type": "stream",
     "text": [
      "F1 score: 0.5241892610313663\n",
      "Youden's index: 0.48632708810495595\n",
      "Matthews correlation coefficient: 0.3978552296055653\n"
     ]
    }
   ],
   "source": [
    "f1_2 = (2*tp_2)/(2*tp_2 + fn_2 + fp_2)\n",
    "youden_2 = tp_2/(tp_2 + fn_2) + tn_2/(tn_2 + fp_2) - 1\n",
    "phi_coef_2 = (tp_2 * tn_2 - fp_2 * fn_2)/(np.sqrt((tp_2 + fp_2)*(tp_2 + fn_2)*(tn_2 + fp_2)*(tn_2 + fn_2)))\n",
    "\n",
    "print(\"F1 score:\", f1_2)\n",
    "print(\"Youden's index:\", youden_2)\n",
    "print(\"Matthews correlation coefficient:\", phi_coef_2)"
   ]
  }
 ],
 "metadata": {
  "kernelspec": {
   "display_name": "Python 3",
   "language": "python",
   "name": "python3"
  },
  "language_info": {
   "codemirror_mode": {
    "name": "ipython",
    "version": 3
   },
   "file_extension": ".py",
   "mimetype": "text/x-python",
   "name": "python",
   "nbconvert_exporter": "python",
   "pygments_lexer": "ipython3",
   "version": "3.8.5"
  }
 },
 "nbformat": 4,
 "nbformat_minor": 4
}
