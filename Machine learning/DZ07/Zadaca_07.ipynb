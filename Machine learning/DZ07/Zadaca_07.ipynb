{
 "cells": [
  {
   "cell_type": "markdown",
   "metadata": {},
   "source": [
    "---\n",
    "# Zadaća 7\n",
    "##### Rok za predaju: 5. svibnja, 2021. u 23:59h\n",
    "##### Način predaje: Teams->Strojno učenje->Assignment, predajete.ipynb datoteka (ili više datoteki u .zip) ili link na Google colab "
   ]
  },
  {
   "cell_type": "markdown",
   "metadata": {},
   "source": [
    "### Ime i prezime: Borna Gajić\n",
    "\n",
    "---"
   ]
  },
  {
   "cell_type": "code",
   "execution_count": 628,
   "metadata": {},
   "outputs": [],
   "source": [
    "import numpy as np\n",
    "import pandas as pd\n",
    "from sklearn.datasets import make_regression\n",
    "from sklearn.preprocessing import OrdinalEncoder\n",
    "from sklearn.model_selection import train_test_split\n",
    "from sklearn.metrics import accuracy_score\n",
    "import matplotlib.pyplot as plt\n",
    "import torch\n",
    "\n",
    "le = OrdinalEncoder()"
   ]
  },
  {
   "cell_type": "markdown",
   "metadata": {},
   "source": [
    "## Zadatak 1\n",
    "\n",
    "Zadana vam je neuronska mreža (slika ispod). Aktivacijska funkcija $g(.)$ u skrivenom sloju je sigmoid funkcija. Pokažite da postoji ekvivalentna neuronska mreža koja u skrivenom sloju umjesto sigmoid aktivacijske funkcije ima $tanh$ aktivacijsku funkciju. Raspišite to. \n",
    "\n",
    "\n",
    "\n",
    "<img src=\"./zadatak1.png\" width=\"50%\">\n",
    "<center>Slika 2. model neuronske mreže</center>\n",
    "\n",
    "\n",
    "Pomoć (pratite sljedeće korake) : \n",
    "- Raspišite kako izgleda aktivacija $a_1^{(3)}$ prateći oznake uvedene gore\n",
    "- Pronađite povezanost između funkcije sigmoid i $tanh$ (raspišite)\n",
    "- Kada dvije gornje informacije spojite, imate sljedeće - ako je $y_T = a_1^{(3)}$ rezultat dobiven neuronskom mrežom u kojoj ste koristili $tanh$ funkciju, a $y_S = a_1^{(3)}$ rezultat dobiven neuronskom mrežom u kojoj ste koristili sigmoid, tada možete pronaći vezu između ta dva rezultata tako da parametre jedne mreže zapišete kao linearnu kombinaciju parametara druge mreže. <br>"
   ]
  },
  {
   "cell_type": "markdown",
   "metadata": {},
   "source": [
    "Raspišimo funkciju $tanh$  \n",
    "  \n",
    "$tanh(x) = \\dfrac{e^x - e^{-x}}{e^x + e^{-x}} = \\dfrac{e^x + e^{-x}}{e^x + e^{-x}} - \\dfrac{2e^{-x}}{e^x + e^{-x}} = 1 - \\dfrac{2}{1 + e^{2x}}$  \n",
    "  \n",
    "Raspišimo funkciju $\\sigma$  \n",
    "  \n",
    "$\\sigma(x) = \\dfrac{1}{1 + e^{-x}} = \\dfrac{1}{\\dfrac{1 + e^x}{e^x}} = 1 - \\dfrac{1}{1 + e^x}$  \n",
    "Sve zajedno\n",
    "  \n",
    "$tanh\\left(\\dfrac{x}{2}\\right) = 2\\sigma(x) - 1 \\iff \\sigma(x) = \\dfrac{tanh\\left(\\dfrac{x}{2}\\right) + 1}{2}$  \n",
    "\n",
    "Iz prošle ekvivalencije možemo zaključiti da će dvije neuronske mreže, gdje jedna za aktivacijsku funkciju ima $\\sigma$ dok druga ima $tanh$, biti jednake (imati iste izlaze) jer jednu aktivacijsku funkciju možemo dobiti kao linearnu kombinaciju druge."
   ]
  },
  {
   "cell_type": "markdown",
   "metadata": {},
   "source": [
    "---\n",
    "## Zadatak 2\n",
    "Modelirajte logčki 'XOR'. Nacrtajte neuronsku mrežu i zapišite parametre $\\theta$ s kojima bi dobro modelirali ponašanje operatora."
   ]
  },
  {
   "cell_type": "markdown",
   "metadata": {},
   "source": [
    "<img src=\"./zadatak1.png\" width=\"50%\">"
   ]
  },
  {
   "cell_type": "markdown",
   "metadata": {},
   "source": [
    "Težine:\n",
    "\n",
    "$w_1^{(1)} = [-10, 20, 20] \\implies OR$  \n",
    "$w_2^{(1)} = [30, -20, -20] \\implies NAND$  \n",
    "  \n",
    "$w_1^{(2)} = [-30, 20, 20] \\implies AND$\n",
    "\n",
    "Rezultati aktivacijskih funkcija:\n",
    "\n",
    "$a_1^{(1)} = -10 + 20 \\cdot x_1 + 20 \\cdot x_2$  \n",
    "$a_2^{(1)} = 10 - 20 \\cdot x_1 - 20 \\cdot x_2$  \n",
    "  \n",
    "$a_1^{(2)} = 30 + 20 \\cdot x_1 + 20 \\cdot x_2$"
   ]
  },
  {
   "cell_type": "markdown",
   "metadata": {},
   "source": [
    "---\n",
    "## Zadatak 3\n",
    "\n",
    "Neka je zadana kriterijska funkcija $J(\\theta) = - \\sum\\limits_{i=1}^{m} [y^{(i)}\\log{h_{\\theta}(x^{(i)}) + (1-y^{(i)})\\log{(1-h_{\\theta}(x^{(i)})})}],$ gdje je za svaki $i$, $y^{(i)}$ stvarna vrijednost podatka, a $h_{\\theta}(x^{(i)})$ predikcija. <br> Ako su neuroni u završnom sloju označeni sa $a_k$, pokažite da je derivacije te funkcije s obzirom na $a_k$, sa sigmoid aktivacijskom funkcijom zadovoljava $\\frac{\\partial J}{\\partial a_k} = h_{\\theta}(x^{(k)}) - y^{(k)}$. <br> (Uzmite kriterijsku funkciju za jedan podatak $i$). "
   ]
  },
  {
   "cell_type": "markdown",
   "metadata": {},
   "source": [
    "Odredimo derivaciju model funkcije:  \n",
    "  \n",
    "$h'_\\theta(x^{(i)}) = \\left(\\dfrac{1}{1 + e^{-x}}\\right)' = - \\dfrac{e^{-x}}{(1 + e^{-x})^2}$  \n",
    "  \n",
    "$h'_\\theta(x^{(i)}) = \\dfrac{e^{-x}}{(1 + e^{-x})^2} = \\dfrac{1}{1 + e^{-x}} \\cdot \\dfrac{1 + e^{-x} - 1}{1 + e^{-x}} = h_\\theta(x^{(i)})\\cdot(1 - h_\\theta(x^{(i)}))$  \n",
    "\n",
    "To jest, vrijedi jednakost: $h'_\\theta(x^{(i)}) = h_\\theta(x^{(i)})(1 - h_\\theta(x^{(i)}))$; označimo ju s $(*)$  \n",
    "  \n",
    "$\\dfrac{\\partial J}{\\partial x^{(k)}} = \\dfrac{\\partial(y^{(k)} \\cdot log(h_{\\theta}(x^{(k)})) + (1 - y^{(k)}) \\cdot log(1-h_{\\theta}(x^{(k)})))}{\\partial x^{(k)}} = $  \n",
    "  \n",
    "$ = y^{(k)} \\cdot \\dfrac{1}{h_{\\theta}(x^{(k)})} \\cdot h_{\\theta}'(x^{(k)}) + (1 - y^{(k)}) \\cdot \\dfrac{-1}{1 - h_{\\theta}(x^{k})} \\cdot h_{\\theta}'(x^{(k)}) = $ \n",
    "  \n",
    "$ = h_{\\theta}'(x^{(k)}) \\cdot (\\dfrac{y^{(k)}}{h_{\\theta}(x^{(k)})} - \\dfrac{1 - y^{(k)}}{1 - h_{\\theta}'(x^{(k)})}) = $  \n",
    "\n",
    "$ = h_{\\theta}'(x^{(k)}) \\cdot \\dfrac{y^{(k)} - y^{(k)} \\cdot h_{\\theta}(x^{(k)}) - h_{\\theta}(x^{(k)}) + y^{(k)} \\cdot h_{\\theta}(x^{(k)})}{h_{\\theta}(x^{(k)})\\cdot(1-h_{\\theta}(x^{(k)}))} \\stackrel{(*)}{\\iff} -(-h_{\\theta}(x^{(k)}) + y^{k}) = h_{\\theta}(x^{(k)}) - y^{k}$  "
   ]
  },
  {
   "cell_type": "markdown",
   "metadata": {},
   "source": [
    "---\n",
    "## Zadatak 4 \n",
    "Zadani su vam regresijski podaci `X,y`.  Proučite dimenzije podataka i odredite arhitekturu mreže i skicirajte ju (priložite sliku). Proizvoljno odredite aktivacijske funkcije i funkciju pogreške. Zatim napravite vektore težina odgovarajuće dimenzije (generirajte slučajne vektore) i napravite propagaciju unaprijed.  \n",
    "\n",
    "Napomena: Propagaciju unaprijed napravite ručno, koristeći `numpy`"
   ]
  },
  {
   "cell_type": "code",
   "execution_count": 795,
   "metadata": {},
   "outputs": [
    {
     "name": "stdout",
     "output_type": "stream",
     "text": [
      "dim X = (300, 6), dim y = (300, 1)\n"
     ]
    }
   ],
   "source": [
    "X, y = make_regression(n_samples = 300, n_features = 6, random_state=102)\n",
    "\n",
    "y = y.reshape(-1, 1)\n",
    "\n",
    "print(\"dim X = {}, dim y = {}\".format(X.shape, y.shape))"
   ]
  },
  {
   "cell_type": "code",
   "execution_count": 796,
   "metadata": {},
   "outputs": [],
   "source": [
    "inputSize = X.shape[1]\n",
    "hiddenSize = 3\n",
    "outputSize = y.shape[1]"
   ]
  },
  {
   "cell_type": "markdown",
   "metadata": {},
   "source": [
    "Aktivacijska i cost funkcija"
   ]
  },
  {
   "cell_type": "code",
   "execution_count": 797,
   "metadata": {},
   "outputs": [],
   "source": [
    "def leaky_ReLU (X, alpha = 0):\n",
    "    return np.where(X > alpha * X, X, alpha * X)\n",
    "    \n",
    "def sigmoid(x):\n",
    "    return 1.0 / (1.0 + np.exp(-x))\n",
    "\n",
    "def cost_function (y, y_pred):\n",
    "    return 0.5 * np.square(y_pred - y).sum()"
   ]
  },
  {
   "cell_type": "markdown",
   "metadata": {},
   "source": [
    "Vektori težina za našu neuronsku mrežu"
   ]
  },
  {
   "cell_type": "code",
   "execution_count": 798,
   "metadata": {},
   "outputs": [
    {
     "name": "stdout",
     "output_type": "stream",
     "text": [
      "dim weight_1 = (6, 3)\n",
      "dim weight_2 = (3, 1)\n"
     ]
    }
   ],
   "source": [
    "weight_1 = np.random.randn(inputSize, hiddenSize)\n",
    "weight_2 = np.random.randn(hiddenSize, outputSize)\n",
    "\n",
    "print(\"dim weight_1 = {}\".format(weight_1.shape))\n",
    "print(\"dim weight_2 = {}\".format(weight_2.shape))"
   ]
  },
  {
   "cell_type": "code",
   "execution_count": 799,
   "metadata": {},
   "outputs": [],
   "source": [
    "# Forward propagation\n",
    "a2 = X.dot(weight_1)\n",
    "z2 = leaky_ReLU(a2)\n",
    "y_pred = z2.dot(weight_2)"
   ]
  },
  {
   "cell_type": "markdown",
   "metadata": {},
   "source": [
    "---\n",
    "\n",
    "## Zadatak 5\n",
    "\n",
    "Ovaj skup skup sadrži $8124$ uzoraka gljiva i njihove $23$ karakteristike. Svakoj gljivi je pridružena klasa $e$ kao *jestiva*(*engl.* edible), $p$ kao *otvorna*(*engl. poisonous*) ili $u$ kao *nepoznato*(*unknown*). <br>\n",
    "Ostale varijable su kategoričke i tipa su *boolean* ili *string*. Uglavnom su stringovi opisni. Npr. značajka $cap-shape$ može poprimiti vrijednosti \n",
    "- bell=b\n",
    "- conical=c\n",
    "- convex=x\n",
    "- flat=f\n",
    "- knobbed=k\n",
    "- sunken=s\n",
    "\n",
    "- Potrebno je upoznati se sa skupom podataka te značajke koje nisu numeričke pretvoriti u numeričke kako bismo s njima mogli dalje računati. \n",
    "- Podijelite skup podataka na skup za treniranje i testiranje.\n",
    "- Odredite dimenzije podataka (odredite dimenzije ulaznog i izlaznog sloja neuronske mreže).\n",
    "- Proizvoljno odaberite arhitekturu skrivenih slojeva.\n",
    "- Implementirajte vašu neuronsku mrežu.\n",
    "- Provedite postupak učenja neuronske mreže.\n",
    "- Testirajte dobiveni model tako da ispišete neku od metrika (npr. `accuracy`).\n",
    "\n",
    "Napomena: Model napravite i trenirajte koristeći `PyTorch`"
   ]
  },
  {
   "cell_type": "code",
   "execution_count": 789,
   "metadata": {},
   "outputs": [
    {
     "data": {
      "text/html": [
       "<div>\n",
       "<style scoped>\n",
       "    .dataframe tbody tr th:only-of-type {\n",
       "        vertical-align: middle;\n",
       "    }\n",
       "\n",
       "    .dataframe tbody tr th {\n",
       "        vertical-align: top;\n",
       "    }\n",
       "\n",
       "    .dataframe thead th {\n",
       "        text-align: right;\n",
       "    }\n",
       "</style>\n",
       "<table border=\"1\" class=\"dataframe\">\n",
       "  <thead>\n",
       "    <tr style=\"text-align: right;\">\n",
       "      <th></th>\n",
       "      <th>class</th>\n",
       "      <th>cap-shape</th>\n",
       "      <th>cap-surface</th>\n",
       "      <th>cap-color</th>\n",
       "      <th>bruises</th>\n",
       "      <th>odor</th>\n",
       "      <th>gill-attachment</th>\n",
       "      <th>gill-spacing</th>\n",
       "      <th>gill-size</th>\n",
       "      <th>gill-color</th>\n",
       "      <th>...</th>\n",
       "      <th>stalk-surface-below-ring</th>\n",
       "      <th>stalk-color-above-ring</th>\n",
       "      <th>stalk-color-below-ring</th>\n",
       "      <th>veil-type</th>\n",
       "      <th>veil-color</th>\n",
       "      <th>ring-number</th>\n",
       "      <th>ring-type</th>\n",
       "      <th>spore-print-color</th>\n",
       "      <th>population</th>\n",
       "      <th>habitat</th>\n",
       "    </tr>\n",
       "  </thead>\n",
       "  <tbody>\n",
       "    <tr>\n",
       "      <th>0</th>\n",
       "      <td>p</td>\n",
       "      <td>x</td>\n",
       "      <td>s</td>\n",
       "      <td>n</td>\n",
       "      <td>t</td>\n",
       "      <td>p</td>\n",
       "      <td>f</td>\n",
       "      <td>c</td>\n",
       "      <td>n</td>\n",
       "      <td>k</td>\n",
       "      <td>...</td>\n",
       "      <td>s</td>\n",
       "      <td>w</td>\n",
       "      <td>w</td>\n",
       "      <td>p</td>\n",
       "      <td>w</td>\n",
       "      <td>o</td>\n",
       "      <td>p</td>\n",
       "      <td>k</td>\n",
       "      <td>s</td>\n",
       "      <td>u</td>\n",
       "    </tr>\n",
       "    <tr>\n",
       "      <th>1</th>\n",
       "      <td>e</td>\n",
       "      <td>x</td>\n",
       "      <td>s</td>\n",
       "      <td>y</td>\n",
       "      <td>t</td>\n",
       "      <td>a</td>\n",
       "      <td>f</td>\n",
       "      <td>c</td>\n",
       "      <td>b</td>\n",
       "      <td>k</td>\n",
       "      <td>...</td>\n",
       "      <td>s</td>\n",
       "      <td>w</td>\n",
       "      <td>w</td>\n",
       "      <td>p</td>\n",
       "      <td>w</td>\n",
       "      <td>o</td>\n",
       "      <td>p</td>\n",
       "      <td>n</td>\n",
       "      <td>n</td>\n",
       "      <td>g</td>\n",
       "    </tr>\n",
       "    <tr>\n",
       "      <th>2</th>\n",
       "      <td>e</td>\n",
       "      <td>b</td>\n",
       "      <td>s</td>\n",
       "      <td>w</td>\n",
       "      <td>t</td>\n",
       "      <td>l</td>\n",
       "      <td>f</td>\n",
       "      <td>c</td>\n",
       "      <td>b</td>\n",
       "      <td>n</td>\n",
       "      <td>...</td>\n",
       "      <td>s</td>\n",
       "      <td>w</td>\n",
       "      <td>w</td>\n",
       "      <td>p</td>\n",
       "      <td>w</td>\n",
       "      <td>o</td>\n",
       "      <td>p</td>\n",
       "      <td>n</td>\n",
       "      <td>n</td>\n",
       "      <td>m</td>\n",
       "    </tr>\n",
       "    <tr>\n",
       "      <th>3</th>\n",
       "      <td>p</td>\n",
       "      <td>x</td>\n",
       "      <td>y</td>\n",
       "      <td>w</td>\n",
       "      <td>t</td>\n",
       "      <td>p</td>\n",
       "      <td>f</td>\n",
       "      <td>c</td>\n",
       "      <td>n</td>\n",
       "      <td>n</td>\n",
       "      <td>...</td>\n",
       "      <td>s</td>\n",
       "      <td>w</td>\n",
       "      <td>w</td>\n",
       "      <td>p</td>\n",
       "      <td>w</td>\n",
       "      <td>o</td>\n",
       "      <td>p</td>\n",
       "      <td>k</td>\n",
       "      <td>s</td>\n",
       "      <td>u</td>\n",
       "    </tr>\n",
       "    <tr>\n",
       "      <th>4</th>\n",
       "      <td>e</td>\n",
       "      <td>x</td>\n",
       "      <td>s</td>\n",
       "      <td>g</td>\n",
       "      <td>f</td>\n",
       "      <td>n</td>\n",
       "      <td>f</td>\n",
       "      <td>w</td>\n",
       "      <td>b</td>\n",
       "      <td>k</td>\n",
       "      <td>...</td>\n",
       "      <td>s</td>\n",
       "      <td>w</td>\n",
       "      <td>w</td>\n",
       "      <td>p</td>\n",
       "      <td>w</td>\n",
       "      <td>o</td>\n",
       "      <td>e</td>\n",
       "      <td>n</td>\n",
       "      <td>a</td>\n",
       "      <td>g</td>\n",
       "    </tr>\n",
       "  </tbody>\n",
       "</table>\n",
       "<p>5 rows × 23 columns</p>\n",
       "</div>"
      ],
      "text/plain": [
       "  class cap-shape cap-surface cap-color bruises odor gill-attachment  \\\n",
       "0     p         x           s         n       t    p               f   \n",
       "1     e         x           s         y       t    a               f   \n",
       "2     e         b           s         w       t    l               f   \n",
       "3     p         x           y         w       t    p               f   \n",
       "4     e         x           s         g       f    n               f   \n",
       "\n",
       "  gill-spacing gill-size gill-color  ... stalk-surface-below-ring  \\\n",
       "0            c         n          k  ...                        s   \n",
       "1            c         b          k  ...                        s   \n",
       "2            c         b          n  ...                        s   \n",
       "3            c         n          n  ...                        s   \n",
       "4            w         b          k  ...                        s   \n",
       "\n",
       "  stalk-color-above-ring stalk-color-below-ring veil-type veil-color  \\\n",
       "0                      w                      w         p          w   \n",
       "1                      w                      w         p          w   \n",
       "2                      w                      w         p          w   \n",
       "3                      w                      w         p          w   \n",
       "4                      w                      w         p          w   \n",
       "\n",
       "  ring-number ring-type spore-print-color population habitat  \n",
       "0           o         p                 k          s       u  \n",
       "1           o         p                 n          n       g  \n",
       "2           o         p                 n          n       m  \n",
       "3           o         p                 k          s       u  \n",
       "4           o         e                 n          a       g  \n",
       "\n",
       "[5 rows x 23 columns]"
      ]
     },
     "execution_count": 789,
     "metadata": {},
     "output_type": "execute_result"
    }
   ],
   "source": [
    "mushrooms = pd.read_csv('./mushrooms.csv')\n",
    "mushrooms_np = mushrooms.to_numpy()\n",
    "\n",
    "mushrooms.head()"
   ]
  },
  {
   "cell_type": "markdown",
   "metadata": {},
   "source": [
    "Labeliranje podataka"
   ]
  },
  {
   "cell_type": "code",
   "execution_count": 506,
   "metadata": {},
   "outputs": [
    {
     "data": {
      "text/plain": [
       "array([[1., 5., 2., ..., 2., 3., 5.],\n",
       "       [0., 5., 2., ..., 3., 2., 1.],\n",
       "       [0., 0., 2., ..., 3., 2., 3.],\n",
       "       ...,\n",
       "       [0., 2., 2., ..., 0., 1., 2.],\n",
       "       [1., 3., 3., ..., 7., 4., 2.],\n",
       "       [0., 5., 2., ..., 4., 1., 2.]], dtype=float32)"
      ]
     },
     "execution_count": 506,
     "metadata": {},
     "output_type": "execute_result"
    }
   ],
   "source": [
    "for idx, feature in enumerate(mushrooms_np.T):\n",
    "        mushrooms_np.T[idx] = le.fit_transform(feature.reshape(-1, 1))[:, 0]\n",
    "        \n",
    "mushrooms_np = mushrooms_np.astype(np.float32)\n",
    "mushrooms_np"
   ]
  },
  {
   "cell_type": "markdown",
   "metadata": {},
   "source": [
    "Svakoj gljivi je pridružena klasa $e = 0$ kao *jestiva*(*engl.* edible), $p = 1$ kao *otvorna*(*engl. poisonous*) ili $u$ kao *nepoznato*(*unknown*)"
   ]
  },
  {
   "cell_type": "code",
   "execution_count": 784,
   "metadata": {},
   "outputs": [],
   "source": [
    "X = mushrooms_np[:, 1:]\n",
    "y = mushrooms_np[:, 0]"
   ]
  },
  {
   "cell_type": "markdown",
   "metadata": {},
   "source": [
    "Podjela na skup za treniranje i testiranje"
   ]
  },
  {
   "cell_type": "code",
   "execution_count": 508,
   "metadata": {},
   "outputs": [],
   "source": [
    "X_train, X_test, y_train, y_test = train_test_split(X, y, test_size = 0.33, random_state = 42)\n",
    "\n",
    "y_train = y_train.reshape(-1, 1)\n",
    "y_test = y_test.reshape(-1, 1)"
   ]
  },
  {
   "cell_type": "markdown",
   "metadata": {},
   "source": [
    "Kreiranje tenzora"
   ]
  },
  {
   "cell_type": "code",
   "execution_count": 697,
   "metadata": {},
   "outputs": [],
   "source": [
    "X_train_T = torch.from_numpy(X_train)\n",
    "y_train_T = torch.from_numpy(y_train)\n",
    "\n",
    "X_test_T = torch.from_numpy(X_test)\n",
    "y_test_T = torch.from_numpy(y_test)"
   ]
  },
  {
   "cell_type": "code",
   "execution_count": 698,
   "metadata": {},
   "outputs": [
    {
     "name": "stdout",
     "output_type": "stream",
     "text": [
      "dim X_train = (5443, 22)\n",
      "dim y_train = (5443, 1)\n"
     ]
    }
   ],
   "source": [
    "print(\"dim X_train = {}\".format(X_train.shape, dtype = torch.float32))\n",
    "print(\"dim y_train = {}\".format(y_train.shape, dtype = torch.float32))"
   ]
  },
  {
   "cell_type": "code",
   "execution_count": 699,
   "metadata": {},
   "outputs": [],
   "source": [
    "inputSize = 22\n",
    "hidden1 = 100\n",
    "hidden2 = 50\n",
    "hidden3 = 25\n",
    "outputSize = 1"
   ]
  },
  {
   "cell_type": "markdown",
   "metadata": {},
   "source": [
    "Treniranje neuronske mreže"
   ]
  },
  {
   "cell_type": "markdown",
   "metadata": {},
   "source": [
    " * Logistička regresija"
   ]
  },
  {
   "cell_type": "code",
   "execution_count": 764,
   "metadata": {},
   "outputs": [],
   "source": [
    "max_iter = 1000\n",
    "\n",
    "model = torch.nn.Sequential(\n",
    "        torch.nn.Linear(inputSize, hidden1),\n",
    "        torch.nn.PReLU(),\n",
    "        torch.nn.Linear(hidden1, hidden2),\n",
    "        torch.nn.PReLU(),\n",
    "        torch.nn.Linear(hidden2, hidden3),\n",
    "        torch.nn.PReLU(),\n",
    "        torch.nn.Linear(hidden3, outputSize),\n",
    "        torch.nn.Sigmoid())\n",
    "\n",
    "loss_fn = torch.nn.BCELoss()\n",
    "loss_values = []\n",
    "\n",
    "learning_rate = 1e-2\n",
    "for it in range(max_iter):\n",
    "    y_pred = model(X_train_T)\n",
    "    \n",
    "    loss = loss_fn(y_pred, y_train_T)\n",
    "    loss_values.append(loss.item())\n",
    "    \n",
    "    model.zero_grad()\n",
    "    loss.backward()\n",
    "    \n",
    "    with torch.no_grad():\n",
    "        for w in model.parameters():\n",
    "            w -= learning_rate * w.grad"
   ]
  },
  {
   "cell_type": "code",
   "execution_count": 793,
   "metadata": {},
   "outputs": [
    {
     "data": {
      "image/png": "[encoded data removed]",
      "text/plain": [
       "<Figure size 432x288 with 1 Axes>"
      ]
     },
     "metadata": {
      "needs_background": "light"
     },
     "output_type": "display_data"
    }
   ],
   "source": [
    "plt.plot(np.arange(max_iter), loss_values, c = 'r')\n",
    "plt.show()"
   ]
  },
  {
   "cell_type": "markdown",
   "metadata": {},
   "source": [
    "Preciznost modela"
   ]
  },
  {
   "cell_type": "code",
   "execution_count": 766,
   "metadata": {},
   "outputs": [
    {
     "name": "stdout",
     "output_type": "stream",
     "text": [
      "tensor([[0.1372],\n",
      "        [0.9103],\n",
      "        [0.9896],\n",
      "        ...,\n",
      "        [0.1809],\n",
      "        [0.8630],\n",
      "        [0.0716]], grad_fn=<SigmoidBackward>)\n"
     ]
    }
   ],
   "source": [
    "test_pred = model(X_test_T)\n",
    "print(test_pred)"
   ]
  },
  {
   "cell_type": "code",
   "execution_count": 767,
   "metadata": {},
   "outputs": [
    {
     "data": {
      "text/plain": [
       "array([0, 1, 1, ..., 0, 1, 0])"
      ]
     },
     "execution_count": 767,
     "metadata": {},
     "output_type": "execute_result"
    }
   ],
   "source": [
    "predictions = []\n",
    "for x in test_pred:\n",
    "    if x > 0.5: predictions.append(1)\n",
    "    else: predictions.append(0)\n",
    "\n",
    "predictions = np.array(predictions)\n",
    "predictions"
   ]
  },
  {
   "cell_type": "code",
   "execution_count": 768,
   "metadata": {},
   "outputs": [
    {
     "name": "stdout",
     "output_type": "stream",
     "text": [
      "Accuracy score:  0.9011562849682954\n"
     ]
    }
   ],
   "source": [
    "print(\"Accuracy score: \", accuracy_score(y_test, predictions))"
   ]
  },
  {
   "cell_type": "markdown",
   "metadata": {},
   "source": [
    "Predikcije označene u početnoj formi"
   ]
  },
  {
   "cell_type": "code",
   "execution_count": 791,
   "metadata": {},
   "outputs": [
    {
     "data": {
      "text/plain": [
       "array([['e'],\n",
       "       ['p'],\n",
       "       ['p'],\n",
       "       ...,\n",
       "       ['e'],\n",
       "       ['p'],\n",
       "       ['e']], dtype=object)"
      ]
     },
     "execution_count": 791,
     "metadata": {},
     "output_type": "execute_result"
    }
   ],
   "source": [
    "le.fit(mushrooms_np[:, 0].reshape(-1, 1))\n",
    "predictions_labeled = le.inverse_transform(predictions.reshape(-1, 1))\n",
    "\n",
    "predictions_labeled"
   ]
  }
 ],
 "metadata": {
  "kernelspec": {
   "display_name": "Python 3",
   "language": "python",
   "name": "python3"
  },
  "language_info": {
   "codemirror_mode": {
    "name": "ipython",
    "version": 3
   },
   "file_extension": ".py",
   "mimetype": "text/x-python",
   "name": "python",
   "nbconvert_exporter": "python",
   "pygments_lexer": "ipython3",
   "version": "3.8.5"
  }
 },
 "nbformat": 4,
 "nbformat_minor": 4
}
