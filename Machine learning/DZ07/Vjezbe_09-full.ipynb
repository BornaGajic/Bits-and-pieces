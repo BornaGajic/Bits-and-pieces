{
 "cells": [
  {
   "cell_type": "markdown",
   "metadata": {},
   "source": [
    "# Vježbe 9 - Neuronske mreže"
   ]
  },
  {
   "cell_type": "markdown",
   "metadata": {},
   "source": [
    "Na predavanju ste se upoznali s konceptom neuronskih mreža. <br>\n",
    "Malo ćemo ponoviti osnove pojmove. Pogledajmo prvo arhitekturu mreže na slici <br>\n",
    "\n",
    "Neuronska mreža se sastoji od slojeva, a  svaki sloj sadrži aktivacijske jedinice. **Prvi** i **zadnji** sloj su **ulazni** podaci odnosno, **izlazne** vrijednosti. <br>\n",
    "Svi slojevi između se nazivaju **skrivenim** slojevima. <br> \n",
    "Svaka jedinica u skrivenim slojevima je linearna kombinacija jedinica iz prethodnih slojeva, tako se dobiju potpuno povezani slojevi. Svaka aktivacijska jedinica ima pridruženu aktivacijsku funkciju.<br>\n",
    "\n",
    "Promotrimo malo oznake ulazne jedinice su označene s $x_i$. Zatim težine $\\theta$ između prvog i drugog sloja imaju u ekspontnu $(1)$ što označava između kojih slojeva se nalaze. U indeksu imaju dva broja, npr. $\\theta^{(1)}_{12}$ što označava da je to težina koja ide u **prvu** aktivacijsku jedinicu sljedećeg sloja, a dolazi iz **druge aktivacijske jedinice.** <br>\n",
    "\n",
    "\n",
    "Nadalje, pokazano vam je kako izgleda računanje u neuronskoj mreži. <br>\n",
    "\n",
    "Prateći gornju sliku, uvedemo sljedeće oznake i imamo<br>\n",
    "\n",
    "$a_1^{(2)} = \\theta_{10}^{(1)}x_0 + \\theta_{11}^{(1)}x_1 + \\theta_{12}^{(1)}x_2 + ... + \\theta_{1n}^{(1)}x_n$ <br>\n",
    "$a_2^{(2)} =\\theta_{20}^{(1)}x_0 + \\theta_{21}^{(1)}x_1 + \\theta_{22}^{(1)}x_2 + ... + \\theta_{2n}^{(1)}x_n$<br>\n",
    "\n",
    "$z_1^{(2)} = g(a_1^{(2)})$<br>\n",
    "$z_2^{(2)} = g(a_2^{(2)})$<br>\n",
    "\n",
    "$a_1^{(3)} = \\theta_{10}^{(2)}z_0^{(2)} + \\theta_{11}^{(2)}z_1^{(2)} + \\theta_{12}^{(2)}z_2^{(2)} + ... + \\theta_{1n}^{(2)}z_n^{(2)}$\n",
    "<br>\n",
    "\n",
    "$z_1^{(3)} = g(a_1^{(3)})$\n",
    "<br>\n",
    "\n",
    "itd.\n",
    "\n",
    "\n",
    "\n",
    "Najčešći izbor za aktivacijsku funkciju su \n",
    "\n",
    "- Sigmoid\n",
    "- Tanh\n",
    "- ReLU\n",
    "\n",
    "\n",
    "Funkciju sigmoid ste već upoznali. Definirana je sa $$ \\sigma:\\mathbb{R}\\rightarrow[0,1], \\quad \\sigma(a) = \\frac{1}{1+e^{-a}}. $$ \n",
    "\n",
    "Tangens hiperbolni odnosno tanh funkcija je definirana s \n",
    "$$ tanh(x) = \\frac{e^{x}-e^{-x}}{e^{x}+e^{-x}}$$\n",
    "Rectified Linear Unit, odnosno ReLU je  na sljedeći način \n",
    "$$ ReLU: \\mathbb{R} \\rightarrow [0,\\infty], \\; ReLU(x) =  max \\{0,x\\} .$$\n",
    "\n",
    "\n",
    "<br>\n",
    "Pitanje: Što kada ne bismo koristili gore navedene aktivacijske funkcije?"
   ]
  },
  {
   "cell_type": "markdown",
   "metadata": {},
   "source": [
    "## Zadatak 1\n",
    "#### Zadana je neuronska mreža kao na slici. Nakon treniranja neuronske mreže imamo sljedeće težine <br>\n",
    "$[v_{11}, v_{12}, v_{1,3}]=[0.5,0.3,0.6]$, $[v_{21},v_{22},v_{23}]=[0.8,0.7,0.2]$, $[w_{11},w_{12}]=[0.2,0.8]$, $[w_{21}]=2$, $[u_1,u_2]=[1,1]$. Pretpostavite da svi neuroni imaju sigmoid aktivacijsku funkciju i da nema pomaka tj. $x_0=0$, $y_0=0$, $z_0=0$. <br> Izračunajte $y_1, y_2, z$ ako je na ulazu zadan $x=[1,0,2]$. "
   ]
  },
  {
   "cell_type": "markdown",
   "metadata": {},
   "source": [
    "## Zadatak 2\n",
    "Na predavanju je pokazano modeliranje logičke funkcije 'OR' neuronskom mrežom. Neka su podaci za treniranje zadani kao na predavanju. Neka su početne težine $[\\theta_{10}, \\theta_{11}, \\theta_{12}]=[0.5,0, 1]$. Izračunajte predikcije ako je aktivacijska funkcija zadana s $f(x)= \\begin{cases}1, x >=0\\\\0, x < 0\\end{cases}$"
   ]
  },
  {
   "cell_type": "markdown",
   "metadata": {},
   "source": [
    "---\n",
    "---"
   ]
  },
  {
   "cell_type": "code",
   "execution_count": 1,
   "metadata": {},
   "outputs": [],
   "source": [
    "import matplotlib.pyplot as plt\n",
    "import numpy as np\n",
    "import pandas as pd"
   ]
  },
  {
   "cell_type": "markdown",
   "metadata": {},
   "source": [
    "## Zadatak 3\n",
    "\n",
    "Koristeći neuronsku mrežu pokušat ćemo riješiti jedan jednostavni problem linearne regresije kakav smo upoznali na početku. <br>\n",
    "Neuronska mreža će imati jednu varijablu na ulazu, skriveni sloj i jednu varijablu u izlaznom sloju. <br>\n",
    "Koristeći numpy složiti ćemo jednu jednostavnu neuronsku mrežu. "
   ]
  },
  {
   "cell_type": "code",
   "execution_count": 116,
   "metadata": {},
   "outputs": [],
   "source": [
    "# Podaci su\n",
    "x = np.array([[3.3], [4.4], [5.5], [6.71], [6.93], [4.168], [9.779], [6.182], [7.59], [2.167], [7.042], [10.791], [5.313], [7.998], [3.1]], dtype=np.float32)\n",
    "y = np.array([[1.7], [2.76], [2.09], [3.19], [2.094], [1.57], [3.366], [2.59], [2.82], [1.221], [2.821], [3.456], [1.65], [2.99], [1.3]], dtype=np.float32)"
   ]
  },
  {
   "cell_type": "code",
   "execution_count": 93,
   "metadata": {},
   "outputs": [
    {
     "data": {
      "image/png": "[encoded data removed]",
      "text/plain": [
       "<Figure size 432x288 with 1 Axes>"
      ]
     },
     "metadata": {
      "needs_background": "light"
     },
     "output_type": "display_data"
    }
   ],
   "source": [
    "plt.scatter(x,y, color='orchid')\n",
    "plt.show()"
   ]
  },
  {
   "cell_type": "code",
   "execution_count": 117,
   "metadata": {},
   "outputs": [],
   "source": [
    "# Navest ćemo dimenzije \n",
    "inputSize = 1\n",
    "hiddenSize = 100\n",
    "outputSize = 1"
   ]
  },
  {
   "cell_type": "code",
   "execution_count": 146,
   "metadata": {},
   "outputs": [],
   "source": [
    "# Inicijalizirat ćemo neke početne težine\n",
    "# Težine ćemo označavati nadalje s w umjesto theta (zbog jednostavnosti i w-weights je uobičajeno :-) )\n",
    "w1 = np.random.randn(inputSize, hiddenSize)\n",
    "w2 = np.random.randn(hiddenSize, outputSize)"
   ]
  },
  {
   "cell_type": "code",
   "execution_count": 56,
   "metadata": {},
   "outputs": [],
   "source": [
    "# Za aktivacijsku funkciju koristit ćemo sigmoid \n",
    "def sigmoid(x):\n",
    "    return 1.0 / (1.0 + np.exp(-x))"
   ]
  },
  {
   "cell_type": "code",
   "execution_count": 7,
   "metadata": {},
   "outputs": [
    {
     "name": "stdout",
     "output_type": "stream",
     "text": [
      "Ulazni podaci (15, 1)\n",
      "Težine w1 (1, 100)\n",
      "Težine w2 (100, 1)\n"
     ]
    }
   ],
   "source": [
    "# Provjerimo dimenzije podataka\n",
    "\n",
    "print(\"Ulazni podaci\",x.shape)\n",
    "print(\"Težine w1\", w1.shape)\n",
    "print(\"Težine w2\", w2.shape)"
   ]
  },
  {
   "cell_type": "code",
   "execution_count": 147,
   "metadata": {},
   "outputs": [
    {
     "name": "stdout",
     "output_type": "stream",
     "text": [
      "Pogreska u iteraciji 0 iznosi 33.06018287670275\n",
      "Pogreska u iteraciji 100 iznosi 1.4159082460520016\n",
      "Pogreska u iteraciji 200 iznosi 1.1448010446957861\n",
      "Pogreska u iteraciji 300 iznosi 1.055281918073227\n",
      "Pogreska u iteraciji 400 iznosi 1.0239055519246585\n",
      "Pogreska u iteraciji 500 iznosi 1.0109252063213352\n",
      "Pogreska u iteraciji 600 iznosi 1.0038531758643798\n",
      "Pogreska u iteraciji 700 iznosi 0.9988100964845279\n",
      "Pogreska u iteraciji 800 iznosi 0.9945897316971813\n",
      "Pogreska u iteraciji 900 iznosi 0.9908098474702138\n"
     ]
    }
   ],
   "source": [
    "# Algoritam:\n",
    "learningRate = 1e-4 # npr. 1e-6 premalo\n",
    "\n",
    "# Crtanje funkcije pogreške\n",
    "loss_values = []\n",
    "\n",
    "for i in range(1000):\n",
    "    \n",
    "    # Prolazak unaprijed (forward pass): izračunaj predikciju\n",
    "    # pomnozimo x sa w1 (napravimo linearnu kombinaciju)\n",
    "    # djelujemo sa aktivacijskom funkcijom\n",
    "    # pomnozimo sa w2 \n",
    "    a2 = x.dot(w1) # Pomnozimo x sa svakom težinom\n",
    "    z2 = sigmoid(a2) # Djelujemo sa aktivacijskom funkcijom - ove vrijednosti tu su sada neuroni u skvirenom sloju\n",
    "    y_pred = z2.dot(w2) # Pomnozimo sa drugim parom tezina - sada se nalazimo u zadnjem sloju\n",
    "    \n",
    "    # Nakon sto smo napravili jedan prolazak unaprijed idemo izracunati pogresku\n",
    "    loss = 0.5*np.square(y_pred - y).sum() # suma kvadratnih odstupanja\n",
    "    loss_values.append(loss)\n",
    "    if i%100==0:\n",
    "        print ('Pogreska u iteraciji {} iznosi {}'.format(i, loss))\n",
    "    \n",
    "    # Na kraju trebamo napraviti backpropagaciju kako bismo izračunali gradijente\n",
    "    # i ažurirati težine (parametre)\n",
    "    \n",
    "    \n",
    "    # ---- pocetak backprop ------------\n",
    "    grad_w2 = z2.T.dot((y_pred - y))\n",
    "    \n",
    "    grad_w1_ = (y_pred-y).dot(w2.T)\n",
    "    grad_w1 = x.T.dot((sigmoid(a2)*(1-sigmoid(a2)))*grad_w1_)\n",
    "    # ---- kraj backprop ------------\n",
    "    #print(grad_w1)\n",
    "    #print(grad_w2)\n",
    "    \n",
    "    # Ažuriramo težine\n",
    "    w1 = w1 - learningRate * grad_w1\n",
    "    w2 = w2 - learningRate * grad_w2"
   ]
  },
  {
   "cell_type": "code",
   "execution_count": 148,
   "metadata": {},
   "outputs": [
    {
     "data": {
      "image/png": "[encoded data removed]",
      "text/plain": [
       "<Figure size 432x288 with 1 Axes>"
      ]
     },
     "metadata": {
      "needs_background": "light"
     },
     "output_type": "display_data"
    }
   ],
   "source": [
    "plt.plot(np.arange(0,1000,1), loss_values, color='orangered')\n",
    "plt.show()"
   ]
  },
  {
   "cell_type": "code",
   "execution_count": 155,
   "metadata": {},
   "outputs": [
    {
     "data": {
      "image/png": "[encoded data removed]",
      "text/plain": [
       "<Figure size 432x288 with 1 Axes>"
      ]
     },
     "metadata": {
      "needs_background": "light"
     },
     "output_type": "display_data"
    }
   ],
   "source": [
    "# Na kraju, kako bismo vidjeli što smo dobili prebacit ćemo predikcije u numpy array\n",
    "# i nacrati ih\n",
    "\n",
    "predicted = y_pred\n",
    "plt.scatter(x,y,color='tab:pink', label = \"original\")\n",
    "plt.scatter(x,predicted, color = 'tab:green')\n",
    "plt.legend()\n",
    "plt.show()"
   ]
  },
  {
   "cell_type": "code",
   "execution_count": 156,
   "metadata": {},
   "outputs": [
    {
     "name": "stdout",
     "output_type": "stream",
     "text": [
      "Podatak =  [3.3]\n",
      "Mnozimo podatak [3.3] sa svim težinama\n",
      "[-5.62925989  1.15125884  3.836115   -0.55910676 -0.81058904] ...\n",
      "Sve dobivene aktivacijske jedinice napadnemo sa sigmoidom\n",
      "[0.00357838 0.75974077 0.97887848 0.36375416 0.30776499] ...\n",
      "Napravimo linearnu kombinaciju dobivenih aktivacijski jedinica sa težinama w2\n",
      "[1.50662625]\n"
     ]
    }
   ],
   "source": [
    "# Analiza mreže\n",
    "print('Podatak = ',x[0])\n",
    "print('Mnozimo podatak', x[0], 'sa svim težinama')\n",
    "print(x[0].dot(w1)[:5], '...')\n",
    "print('Sve dobivene aktivacijske jedinice napadnemo sa sigmoidom')\n",
    "print(sigmoid(x[0].dot(w1))[:5], '...')\n",
    "print('Napravimo linearnu kombinaciju dobivenih aktivacijski jedinica sa težinama w2')\n",
    "print(sigmoid(x[0].dot(w1)).dot(w2))"
   ]
  },
  {
   "cell_type": "markdown",
   "metadata": {},
   "source": [
    "---\n",
    "---\n",
    "\n",
    "## Uvod u PyTorch\n",
    "Napravit ćemo kratki pregled programskog paketa Pytorch kojeg ćemo ubuduće koristiti. <br>\n",
    "Pytorch je baziran na programskom jeziku Python. Primjenjuje se u metodama dubokog učenja jer koristi mogućnosti GPU-a i pruža veliku fleksibilnost i brzinu. <br>\n",
    "Proces treniranja modela dubokog učenja je vremenski zahtjevan i njegovo izvođenje na CPU-u dugo traje, stoga je rješenje prebacivanje računanja na GPU. GPU sadrži velik broj jezgri koje su optimizirane za paralelno računanje. <br>\n",
    "\n",
    "U PyTorch paketu je implementiran veliki broj operacija. Osnovni objekt nad kojim se izvršavaju operacije je tenzor. Tenzori se direktno mogu premještati s CPU na GPU i obratno.<br>\n",
    "\n",
    "PyTorch sadrži paket autograd koji pruža automatsko računanje gradijenta u neuronskim mrežama koristeći tehnike automatske diferencijacije. Na ovaj način je proces propagacije unatrag za računanje gradijenta pogreške u potpunosti pojednostavljen. \n",
    "\n",
    "PyTorch sadrži paket $nn$ koji omogućuje jednostavno slaganje konvolucijskih mreža, automatizira procese računanja i sadrži implementacije velikog broja funkcija pogreške. <br>\n",
    "\n",
    "\n",
    "<img src=\"https://venturebeat.com/wp-content/uploads/2019/06/pytorch-e1576624094357.jpg?w=1200&strip=all\" width=\"20%\">\n",
    "\n"
   ]
  },
  {
   "cell_type": "code",
   "execution_count": 43,
   "metadata": {},
   "outputs": [],
   "source": [
    "import torch"
   ]
  },
  {
   "cell_type": "markdown",
   "metadata": {},
   "source": [
    "### Primjer 1"
   ]
  },
  {
   "cell_type": "code",
   "execution_count": null,
   "metadata": {},
   "outputs": [],
   "source": [
    "# Proci cemo kroz neke osnovne funkcionalnosti koje ćete koristiti\n",
    "# i usporediti ih sa dosadašnjima iz numpyja\n",
    "\n",
    "# Zelimo kreirati vektor sa slučajno generiranim brojevima \n",
    "# veličine n1 x n2\n",
    "\n",
    "n1 = 10\n",
    "n2 = 2\n",
    "\n",
    "# Numpy \n",
    "x_np = np.random.randn(n1,n2)\n",
    "# Torch tensor\n",
    "x_torch = torch.randn(n1,n2)\n",
    "\n",
    "# Ako pokrenemo kod vidjet ćemo osnovnu razliku\n",
    "# x_np je array, a x_torch je tenzor - kao što smo rekli na početku, \n",
    "# tenzori su osnovni objekti s kojima ćemo raditi\n",
    "\n",
    "print(type(x_np))\n",
    "print(type(x_torch))\n",
    "\n",
    "\n",
    "# Množenje dva tenzora\n",
    "# Neka su zadani tenzori a i b\n",
    "# a je 2 x 3, b je 3 x 4\n",
    "a = torch.randn(2,3)\n",
    "b = torch.randn(3,4)\n",
    "print(torch.mm(a,b))\n",
    "# ili\n",
    "print(a.mm(b))\n",
    "\n",
    "# Ispitivanje dimenzija kao i do sada\n",
    "print(a.shape, b.shape)\n"
   ]
  },
  {
   "cell_type": "markdown",
   "metadata": {},
   "source": [
    "---\n",
    "\n",
    "### Primjer 2\n",
    "\n",
    "Koristeći neuronsku mrežu pokušat ćemo riješiti jedan jednostavni problem linearne regresije kakav smo upoznali na početku. <br>\n",
    "Neuronska mreža će imati jednu varijablu na ulazu, skriveni sloj i jednu varijablu u izlaznom sloju. <br>\n",
    "Koristeći numpy složiti ćemo jednu jednostavnu neuronsku mrežu. \n"
   ]
  },
  {
   "cell_type": "code",
   "execution_count": 130,
   "metadata": {},
   "outputs": [
    {
     "name": "stdout",
     "output_type": "stream",
     "text": [
      "Pogreska u iteraciji 0 iznosi 5235.91552734375\n",
      "Pogreska u iteraciji 100 iznosi 3.0047008991241455\n",
      "Pogreska u iteraciji 200 iznosi 3.0047008991241455\n"
     ]
    }
   ],
   "source": [
    "# Zadani su nam podaci\n",
    "\n",
    "# Podaci su\n",
    "x = np.array([[3.3], [4.4], [5.5], [6.71], [6.93], [4.168], [9.779], [6.182], [7.59], [2.167], [7.042], [10.791], [5.313], [7.998], [3.1]], dtype=np.float32)\n",
    "y = np.array([[1.7], [2.76], [2.09], [3.19], [2.094], [1.57], [3.366], [2.59], [2.82], [1.221], [2.821], [3.456], [1.65], [2.99], [1.3]], dtype=np.float32)\n",
    "\n",
    "# No, podatke sada moramo pretvoriti u tenzore\n",
    "# Postoje dva načina, mi ćemo odabrati prvi\n",
    "# 1. nacin: napravi deep copy\n",
    "x_T = torch.tensor(x, dtype = torch.float)\n",
    "# 2. nacin: napravi shallow copy\n",
    "#x_train_T = torch.from_numpy(x_train)   \n",
    "\n",
    "y_T = torch.tensor(y, dtype = torch.float)\n",
    "              \n",
    "# Dimenzije neuronske mreže su\n",
    "inputSize = 1\n",
    "hiddenSize = 100\n",
    "outputSize = 1\n",
    "\n",
    "# Postavimo početne težine na neke slučajno generirane brojeve\n",
    "w1 = torch.randn(inputSize, hiddenSize, dtype = torch.float, requires_grad = True)\n",
    "w2 = torch.randn(hiddenSize, outputSize, dtype = torch.float, requires_grad = True)\n",
    "\n",
    "# Primijetimo dodatni argument koji smo proslijedili\n",
    "# requires_grad = True <--- to označava da želimo računati gradijent s obzirom\n",
    "# na te tenzore tijekom prolaska unatrag (backward pass)\n",
    "    \n",
    "learningRate = 1e-5\n",
    "\n",
    "# Algoritam\n",
    "\n",
    "# Crtanje grafa pogreške\n",
    "loss_values = [] \n",
    "n_iter = 300\n",
    "for i in range(n_iter):\n",
    "    # Prolazak unaprijed (forward pass): izračunaj predikciju\n",
    "    # Ono što ćemo napraviti će biti isto kao i u prethodnom algoritmu \n",
    "    # No, razlika je što sada radimo s tenzorima\n",
    "    # A druga razlika je što nam ne trebaju međukoraci jer nećemo ručno računati\n",
    "    # gradijent\n",
    "    \n",
    "    y_pred_T = x_T.mm(w1).clamp(min = 0).mm(w2)\n",
    "    \n",
    "    # Nakon sto smo napravili jedan prolazak unaprijed idemo izracunati pogresku\n",
    "    loss = (y_pred_T - y_T).pow(2).sum() # suma kvadratnih odstupanja\n",
    "    loss_values.append(loss.item())\n",
    "    if i%100==0:\n",
    "        print ('Pogreska u iteraciji {} iznosi {}'.format(i, loss.item()))\n",
    "    \n",
    "    # Sada ćemo napraviti backward propagaciju, izračunati gradijente\n",
    "    # Korsitit ćemo 'autograd'\n",
    "    # Poziv sljedeće funkcije će izračunati sve gradijente s obzirom na sve\n",
    "    # tenzore koji imaju oznaku requires_grad=True\n",
    "    # Dakle, budući da loss ovisi o tenzorima w1 i w2, a oni imaju tu oznaku jer  smo ih tako kreirali\n",
    "    # izračunati će se ti gradijenti i bit će spremljeni u w1.grad tj, w2.grad\n",
    "    \n",
    "    # Poziv funkcije\n",
    "    loss.backward()\n",
    "    \n",
    "    # Sada ćemo ažurirati težine w\n",
    "    with torch.no_grad():\n",
    "        \n",
    "        w1 -= learningRate * w1.grad\n",
    "        w2 -= learningRate * w2.grad\n",
    "\n",
    "        # Manually zero the gradients after updating weights\n",
    "        w1.grad.zero_()\n",
    "        w2.grad.zero_()"
   ]
  },
  {
   "cell_type": "code",
   "execution_count": 131,
   "metadata": {},
   "outputs": [
    {
     "data": {
      "text/plain": [
       "[]"
      ]
     },
     "execution_count": 131,
     "metadata": {},
     "output_type": "execute_result"
    },
    {
     "data": {
      "image/png": "[encoded data removed]",
      "text/plain": [
       "<Figure size 432x288 with 1 Axes>"
      ]
     },
     "metadata": {
      "needs_background": "light"
     },
     "output_type": "display_data"
    }
   ],
   "source": [
    "plt.plot(np.arange(0,n_iter,1), loss_values, color='orangered')\n",
    "plt.plot()"
   ]
  },
  {
   "cell_type": "code",
   "execution_count": 133,
   "metadata": {},
   "outputs": [
    {
     "data": {
      "image/png": "[encoded data removed]",
      "text/plain": [
       "<Figure size 432x288 with 1 Axes>"
      ]
     },
     "metadata": {
      "needs_background": "light"
     },
     "output_type": "display_data"
    }
   ],
   "source": [
    "# Na kraju, kako bismo vidjeli što smo dobili prebacit ćemo predikcije u numpy array\n",
    "# i nacrati ih\n",
    "\n",
    "predicted = y_pred_T.detach().numpy()\n",
    "plt.scatter(x_T,y_T,color='tab:pink', label = \"original\")\n",
    "plt.plot(x_T,predicted, color = 'tab:cyan',label = \"fitted line\")\n",
    "plt.legend()\n",
    "plt.show()"
   ]
  },
  {
   "cell_type": "markdown",
   "metadata": {},
   "source": [
    "---\n",
    "\n",
    "### Primjer 3\n",
    "Koristeći sljedeće naredbe se vrlo jednostavno može složiti neuronska mreža tako da se navedu slojevi koji se sekvencijalno izvršavaju na zadanom ulazu. Pokazat ćemo na primjeru jednostavne mreže koja sadrži dva linearna sloja. Kreiramo tenzore zadanih veličina s nasumičnim vrijednostima za ulazni  podatak $x$ i njemu pripadni izlazni podatak $y$ ."
   ]
  },
  {
   "cell_type": "code",
   "execution_count": 1,
   "metadata": {},
   "outputs": [
    {
     "ename": "NameError",
     "evalue": "name 'np' is not defined",
     "output_type": "error",
     "traceback": [
      "\u001b[1;31m---------------------------------------------------------------------------\u001b[0m",
      "\u001b[1;31mNameError\u001b[0m                                 Traceback (most recent call last)",
      "\u001b[1;32m<ipython-input-1-98f8ace28206>\u001b[0m in \u001b[0;36m<module>\u001b[1;34m\u001b[0m\n\u001b[0;32m      1\u001b[0m \u001b[1;31m# Zadani su nam podaci\u001b[0m\u001b[1;33m\u001b[0m\u001b[1;33m\u001b[0m\u001b[1;33m\u001b[0m\u001b[0m\n\u001b[0;32m      2\u001b[0m \u001b[1;33m\u001b[0m\u001b[0m\n\u001b[1;32m----> 3\u001b[1;33m \u001b[0mx\u001b[0m \u001b[1;33m=\u001b[0m \u001b[0mnp\u001b[0m\u001b[1;33m.\u001b[0m\u001b[0marray\u001b[0m\u001b[1;33m(\u001b[0m\u001b[1;33m[\u001b[0m\u001b[1;33m[\u001b[0m\u001b[1;36m3.3\u001b[0m\u001b[1;33m]\u001b[0m\u001b[1;33m,\u001b[0m \u001b[1;33m[\u001b[0m\u001b[1;36m4.4\u001b[0m\u001b[1;33m]\u001b[0m\u001b[1;33m,\u001b[0m \u001b[1;33m[\u001b[0m\u001b[1;36m5.5\u001b[0m\u001b[1;33m]\u001b[0m\u001b[1;33m,\u001b[0m \u001b[1;33m[\u001b[0m\u001b[1;36m6.71\u001b[0m\u001b[1;33m]\u001b[0m\u001b[1;33m,\u001b[0m \u001b[1;33m[\u001b[0m\u001b[1;36m6.93\u001b[0m\u001b[1;33m]\u001b[0m\u001b[1;33m,\u001b[0m \u001b[1;33m[\u001b[0m\u001b[1;36m4.168\u001b[0m\u001b[1;33m]\u001b[0m\u001b[1;33m,\u001b[0m \u001b[1;33m[\u001b[0m\u001b[1;36m9.779\u001b[0m\u001b[1;33m]\u001b[0m\u001b[1;33m,\u001b[0m \u001b[1;33m[\u001b[0m\u001b[1;36m6.182\u001b[0m\u001b[1;33m]\u001b[0m\u001b[1;33m,\u001b[0m \u001b[1;33m[\u001b[0m\u001b[1;36m7.59\u001b[0m\u001b[1;33m]\u001b[0m\u001b[1;33m,\u001b[0m \u001b[1;33m[\u001b[0m\u001b[1;36m2.167\u001b[0m\u001b[1;33m]\u001b[0m\u001b[1;33m,\u001b[0m \u001b[1;33m[\u001b[0m\u001b[1;36m7.042\u001b[0m\u001b[1;33m]\u001b[0m\u001b[1;33m,\u001b[0m \u001b[1;33m[\u001b[0m\u001b[1;36m10.791\u001b[0m\u001b[1;33m]\u001b[0m\u001b[1;33m,\u001b[0m \u001b[1;33m[\u001b[0m\u001b[1;36m5.313\u001b[0m\u001b[1;33m]\u001b[0m\u001b[1;33m,\u001b[0m \u001b[1;33m[\u001b[0m\u001b[1;36m7.998\u001b[0m\u001b[1;33m]\u001b[0m\u001b[1;33m,\u001b[0m \u001b[1;33m[\u001b[0m\u001b[1;36m3.1\u001b[0m\u001b[1;33m]\u001b[0m\u001b[1;33m]\u001b[0m\u001b[1;33m,\u001b[0m \u001b[0mdtype\u001b[0m\u001b[1;33m=\u001b[0m\u001b[0mnp\u001b[0m\u001b[1;33m.\u001b[0m\u001b[0mfloat32\u001b[0m\u001b[1;33m)\u001b[0m\u001b[1;33m\u001b[0m\u001b[1;33m\u001b[0m\u001b[0m\n\u001b[0m\u001b[0;32m      4\u001b[0m \u001b[0my\u001b[0m \u001b[1;33m=\u001b[0m \u001b[0mnp\u001b[0m\u001b[1;33m.\u001b[0m\u001b[0marray\u001b[0m\u001b[1;33m(\u001b[0m\u001b[1;33m[\u001b[0m\u001b[1;33m[\u001b[0m\u001b[1;36m1.7\u001b[0m\u001b[1;33m]\u001b[0m\u001b[1;33m,\u001b[0m \u001b[1;33m[\u001b[0m\u001b[1;36m2.76\u001b[0m\u001b[1;33m]\u001b[0m\u001b[1;33m,\u001b[0m \u001b[1;33m[\u001b[0m\u001b[1;36m2.09\u001b[0m\u001b[1;33m]\u001b[0m\u001b[1;33m,\u001b[0m \u001b[1;33m[\u001b[0m\u001b[1;36m3.19\u001b[0m\u001b[1;33m]\u001b[0m\u001b[1;33m,\u001b[0m \u001b[1;33m[\u001b[0m\u001b[1;36m2.094\u001b[0m\u001b[1;33m]\u001b[0m\u001b[1;33m,\u001b[0m \u001b[1;33m[\u001b[0m\u001b[1;36m1.57\u001b[0m\u001b[1;33m]\u001b[0m\u001b[1;33m,\u001b[0m \u001b[1;33m[\u001b[0m\u001b[1;36m3.366\u001b[0m\u001b[1;33m]\u001b[0m\u001b[1;33m,\u001b[0m \u001b[1;33m[\u001b[0m\u001b[1;36m2.59\u001b[0m\u001b[1;33m]\u001b[0m\u001b[1;33m,\u001b[0m \u001b[1;33m[\u001b[0m\u001b[1;36m2.82\u001b[0m\u001b[1;33m]\u001b[0m\u001b[1;33m,\u001b[0m \u001b[1;33m[\u001b[0m\u001b[1;36m1.221\u001b[0m\u001b[1;33m]\u001b[0m\u001b[1;33m,\u001b[0m \u001b[1;33m[\u001b[0m\u001b[1;36m2.821\u001b[0m\u001b[1;33m]\u001b[0m\u001b[1;33m,\u001b[0m \u001b[1;33m[\u001b[0m\u001b[1;36m3.456\u001b[0m\u001b[1;33m]\u001b[0m\u001b[1;33m,\u001b[0m \u001b[1;33m[\u001b[0m\u001b[1;36m1.65\u001b[0m\u001b[1;33m]\u001b[0m\u001b[1;33m,\u001b[0m \u001b[1;33m[\u001b[0m\u001b[1;36m2.99\u001b[0m\u001b[1;33m]\u001b[0m\u001b[1;33m,\u001b[0m \u001b[1;33m[\u001b[0m\u001b[1;36m1.3\u001b[0m\u001b[1;33m]\u001b[0m\u001b[1;33m]\u001b[0m\u001b[1;33m,\u001b[0m \u001b[0mdtype\u001b[0m\u001b[1;33m=\u001b[0m\u001b[0mnp\u001b[0m\u001b[1;33m.\u001b[0m\u001b[0mfloat32\u001b[0m\u001b[1;33m)\u001b[0m\u001b[1;33m\u001b[0m\u001b[1;33m\u001b[0m\u001b[0m\n\u001b[0;32m      5\u001b[0m \u001b[1;33m\u001b[0m\u001b[0m\n",
      "\u001b[1;31mNameError\u001b[0m: name 'np' is not defined"
     ]
    }
   ],
   "source": [
    "# Zadani su nam podaci\n",
    "\n",
    "x = np.array([[3.3], [4.4], [5.5], [6.71], [6.93], [4.168], [9.779], [6.182], [7.59], [2.167], [7.042], [10.791], [5.313], [7.998], [3.1]], dtype=np.float32)\n",
    "y = np.array([[1.7], [2.76], [2.09], [3.19], [2.094], [1.57], [3.366], [2.59], [2.82], [1.221], [2.821], [3.456], [1.65], [2.99], [1.3]], dtype=np.float32)\n",
    "\n",
    "# No, podatke sada moramo pretvoriti u tenzore\n",
    "# Postoje dva načina, mi ćemo odabrati prvi\n",
    "# 1. nacin: napravi deep copy\n",
    "x_T = torch.tensor(x, dtype = torch.float)\n",
    "# 2. nacin: napravi shallow copy\n",
    "#x_train_T = torch.from_numpy(x_train)   \n",
    "\n",
    "y_T = torch.tensor(y, dtype = torch.float)\n",
    "              \n",
    "# Dimenzije neuronske mreže su\n",
    "inputSize = 1\n",
    "hiddenSize = 100\n",
    "outputSize = 1\n",
    "\n",
    "# Koristit ćemo nn paketa\n",
    "# nn.Sequential je modul koji sadrži druge module i izvršava ih redom\n",
    "\n",
    "# Ako želimo linearni sloj - ulazni podatak pomnožiti sa svim težinama koristimo\n",
    "# torch.nn.Linear(inputSize, hiddenSize)\n",
    "\n",
    "# Ako želimo izračunati ono što smo nazivali z^(2), dakle djelovati na svaki neuron\n",
    "# aktivacijskom funkcijom zovemo\n",
    "# torch.nn.ReLu() ili torch.nn.Sigmoid() ili torch.nn.Tanh()\n",
    "# više na https://pytorch.org/docs/stable/nn.html#non-linear-activations-weighted-sum-nonlinearity\n",
    "              \n",
    "# Ako želimo koristiti neku od standardnih funkcija pogreške koristimo \n",
    "# torch.nn.MSELoss() ili nešto drugo https://pytorch.org/docs/stable/nn.html#loss-functions\n",
    "\n",
    "\n",
    "# Sastavit ćemo neuronsku mrežu na ovaj način\n",
    "\n",
    "model = torch.nn.Sequential(\n",
    "        torch.nn.Linear(inputSize, hiddenSize),\n",
    "        torch.nn.Sigmoid(),\n",
    "        torch.nn.Linear(hiddenSize, outputSize))\n",
    "\n",
    "# Odabrat ćemo loss funkciju \n",
    "loss_fn = torch.nn.MSELoss()\n",
    "loss_values = [] \n",
    "\n",
    "\n",
    "learningRate = 1e-6\n",
    "for i in range(500):\n",
    "    # Prolazak unaprijed (forward pass): izračunaj predikciju\n",
    "    # Sada je potrebno samo ovo\n",
    "    y_pred = model(x_T)\n",
    "    \n",
    "    \n",
    "    # Nakon sto smo napravili jedan prolazak unaprijed idemo izracunati pogresku\n",
    "    loss = loss_fn(y_pred, y_T)\n",
    "    loss_values.append(loss.item())\n",
    "    if i%100==0:\n",
    "        print ('Pogreska u iteraciji {} iznosi {}'.format(i, loss.item()))\n",
    "    \n",
    "    # Sada ćemo napraviti backward propagaciju, izračunati gradijente\n",
    "    # Prvo ćemo ih sve postaviti na 0\n",
    "    model.zero_grad()\n",
    "    # Poziv funkcije\n",
    "    loss.backward()\n",
    "    \n",
    "    # Sada ćemo ažurirati težine w\n",
    "    with torch.no_grad():\n",
    "        # Proći ćemo kroz sve težine u našem modelu\n",
    "        for w in model.parameters():\n",
    "            w -= learningRate * w.grad\n"
   ]
  },
  {
   "cell_type": "code",
   "execution_count": null,
   "metadata": {},
   "outputs": [],
   "source": [
    "plt.plot(np.arange(0,500,1), loss_values)\n",
    "plt.show()"
   ]
  },
  {
   "cell_type": "markdown",
   "metadata": {},
   "source": [
    "---\n",
    "---\n",
    "\n",
    "## Zadatak 4\n"
   ]
  },
  {
   "cell_type": "code",
   "execution_count": 17,
   "metadata": {},
   "outputs": [],
   "source": [
    "from sklearn.datasets import load_digits\n",
    "from sklearn.model_selection import train_test_split\n",
    "from sklearn.metrics import accuracy_score, precision_score\n",
    "import time\n",
    "import numpy as np\n",
    "import matplotlib.pyplot as plt\n",
    "import torch"
   ]
  },
  {
   "cell_type": "code",
   "execution_count": 9,
   "metadata": {},
   "outputs": [
    {
     "name": "stdout",
     "output_type": "stream",
     "text": [
      "U trening skupu podataka imamo 1257 , a u testnom  540\n"
     ]
    }
   ],
   "source": [
    "# Ucitavamo podatke\n",
    "data = load_digits()\n",
    "\n",
    "# Dijelimo podatke na skup za treniranje i testiranje\n",
    "x_train, x_test, y_train, y_test = train_test_split(data['data'], data['target'], test_size = 0.3)\n",
    "print('U trening skupu podataka imamo', x_train.shape[0], ', a u testnom ', x_test.shape[0])"
   ]
  },
  {
   "cell_type": "code",
   "execution_count": 11,
   "metadata": {},
   "outputs": [
    {
     "data": {
      "image/png": "[encoded data removed]",
      "text/plain": [
       "<Figure size 432x288 with 4 Axes>"
      ]
     },
     "metadata": {
      "needs_background": "light"
     },
     "output_type": "display_data"
    }
   ],
   "source": [
    "# Pogledajmo podatke\n",
    "a,b,c,d = np.random.randint(0,x_train.shape[0],4)\n",
    "\n",
    "fig, axs = plt.subplots(2, 2)\n",
    "axs[0, 0].imshow(x_train[a].reshape(8,8))\n",
    "axs[0, 0].set_title('Digit {}'.format(y_train[a]))\n",
    "axs[0, 1].imshow(x_train[b].reshape(8,8))\n",
    "axs[0, 1].set_title('Digit {}'.format(y_train[b]))\n",
    "axs[1, 0].imshow(x_train[c].reshape(8,8))\n",
    "axs[1, 0].set_title('Digit {}'.format(y_train[c]))\n",
    "axs[1, 1].imshow(x_train[d].reshape(8,8))\n",
    "axs[1, 1].set_title('Digit {}'.format(y_train[d]))\n",
    "\n",
    "for ax in axs.flat:\n",
    "    ax.label_outer()"
   ]
  },
  {
   "cell_type": "code",
   "execution_count": 18,
   "metadata": {},
   "outputs": [],
   "source": [
    "# Prebacimo podatke u tenzore\n",
    "x_train = torch.tensor(x_train,dtype=torch.float)\n",
    "x_test = torch.tensor(x_test,dtype=torch.float)\n",
    "y_train = torch.tensor(y_train, dtype=torch.long)\n",
    "y_test = torch.tensor(y_test, dtype=torch.long)\n"
   ]
  },
  {
   "cell_type": "code",
   "execution_count": 19,
   "metadata": {},
   "outputs": [
    {
     "name": "stdout",
     "output_type": "stream",
     "text": [
      "Podaci imaju 64  featurea. \n"
     ]
    }
   ],
   "source": [
    "# dimenzije podatka, tj. koliko featura svaki podatak ima\n",
    "print('Podaci imaju', x_train.shape[1], ' featurea. ')"
   ]
  },
  {
   "cell_type": "code",
   "execution_count": 20,
   "metadata": {},
   "outputs": [],
   "source": [
    "# parametri\n",
    "inp = 64\n",
    "hid1 = 100\n",
    "hid2 = 50\n",
    "out = 10\n",
    "\n",
    "# -----\n",
    "loss_fn = torch.nn.CrossEntropyLoss()"
   ]
  },
  {
   "cell_type": "code",
   "execution_count": 21,
   "metadata": {},
   "outputs": [],
   "source": [
    "model = torch.nn.Sequential(torch.nn.Linear(inp,hid1),\n",
    "                            torch.nn.ReLU(), \n",
    "                            torch.nn.Linear(hid1,hid2),\n",
    "                            torch.nn.Sigmoid(),\n",
    "                            torch.nn.Softmax(1)\n",
    "                           )"
   ]
  },
  {
   "cell_type": "code",
   "execution_count": 24,
   "metadata": {},
   "outputs": [
    {
     "data": {
      "text/plain": [
       "torch.Size([1257, 64])"
      ]
     },
     "execution_count": 24,
     "metadata": {},
     "output_type": "execute_result"
    }
   ],
   "source": [
    "x_train.shape"
   ]
  },
  {
   "cell_type": "code",
   "execution_count": 22,
   "metadata": {},
   "outputs": [
    {
     "name": "stdout",
     "output_type": "stream",
     "text": [
      "Dimenzija predikcije:  torch.Size([1257, 50])\n",
      "Predikcije za prvi podatak tensor([0.0150, 0.0137, 0.0146, 0.0190, 0.0153, 0.0328, 0.0150, 0.0327, 0.0228,\n",
      "        0.0264, 0.0275, 0.0322, 0.0213, 0.0296, 0.0135, 0.0273, 0.0131, 0.0231,\n",
      "        0.0176, 0.0185, 0.0171, 0.0239, 0.0168, 0.0183, 0.0216, 0.0172, 0.0146,\n",
      "        0.0170, 0.0242, 0.0217, 0.0145, 0.0197, 0.0139, 0.0203, 0.0143, 0.0152,\n",
      "        0.0208, 0.0160, 0.0316, 0.0213, 0.0283, 0.0142, 0.0149, 0.0158, 0.0175,\n",
      "        0.0156, 0.0161, 0.0203, 0.0165, 0.0302], grad_fn=<SelectBackward>)\n",
      "Suma je =  1.0\n"
     ]
    }
   ],
   "source": [
    "\n",
    "# Primijetimo:\n",
    "y_pred = model(x_train)\n",
    "print('Dimenzija predikcije: ', y_pred.shape)\n",
    "\n",
    "# Svakom podatku je pridruzen vektor velicine 10, kao 10 klasa\n",
    "print('Predikcije za prvi podatak', y_pred[0])\n",
    "\n",
    "# Te vrijednosti su vjerojatnosti pripadnosti podataka nekoj od klasa\n",
    "print(\"Suma je = \", torch.sum(y_pred[0]).item())"
   ]
  },
  {
   "cell_type": "code",
   "execution_count": 261,
   "metadata": {},
   "outputs": [
    {
     "name": "stdout",
     "output_type": "stream",
     "text": [
      "torch.float32\n",
      "torch.int64\n"
     ]
    }
   ],
   "source": [
    "# Potencijalne greske : \n",
    "# target varijable moraju biti cijeli brojevi\n",
    "# kako provjeriti tip podatka u tenzoru?\n",
    "print(y_pred.dtype)\n",
    "print(y_train.dtype)"
   ]
  },
  {
   "cell_type": "code",
   "execution_count": 215,
   "metadata": {},
   "outputs": [
    {
     "data": {
      "text/plain": [
       "(torch.Size([1257, 10]), torch.Size([1257]))"
      ]
     },
     "execution_count": 215,
     "metadata": {},
     "output_type": "execute_result"
    }
   ],
   "source": [
    "y_pred.shape, y_train.shape"
   ]
  },
  {
   "cell_type": "code",
   "execution_count": 273,
   "metadata": {},
   "outputs": [
    {
     "name": "stdout",
     "output_type": "stream",
     "text": [
      "--------- Starting with cuda:0 ---------\n",
      "100 3.888310194015503\n",
      "200 3.884942054748535\n",
      "300 3.883727788925171\n",
      "400 3.8831422328948975\n",
      "500 3.8823001384735107\n",
      "600 3.8816401958465576\n",
      "700 3.881387710571289\n",
      "800 3.8812036514282227\n",
      "900 3.8810508251190186\n",
      "1000 3.8809280395507812\n",
      "1100 3.880828380584717\n",
      "1200 3.880746841430664\n",
      "1300 3.8806681632995605\n",
      "1400 3.880603313446045\n",
      "1500 3.880542755126953\n",
      "1600 3.8804919719696045\n",
      "1700 3.880448341369629\n",
      "1800 3.88040828704834\n",
      "1900 3.8803741931915283\n",
      "Required time:  16.310251474380493\n"
     ]
    }
   ],
   "source": [
    "def run():\n",
    "    learningRate = 1e-0\n",
    "\n",
    "    time_start = time.time()\n",
    "    print('--------- Starting with {} ---------')\n",
    "    for iter in range(1,2000):\n",
    "        y_pred = model(x_train)\n",
    "        loss = loss_fn(y_pred, y_train)\n",
    "\n",
    "        if iter % 100 == 0: \n",
    "            print(iter, loss.item())\n",
    "\n",
    "        model.zero_grad()\n",
    "        loss.backward()\n",
    "\n",
    "        with torch.no_grad():\n",
    "            for param in model.parameters():\n",
    "                param -= learningRate*param.grad\n",
    "    time_end = time.time()\n",
    "    print('Required time: ',  time_end - time_start)\n",
    "    \n",
    "run()"
   ]
  },
  {
   "cell_type": "code",
   "execution_count": 244,
   "metadata": {},
   "outputs": [
    {
     "name": "stdout",
     "output_type": "stream",
     "text": [
      "0.9481481481481482\n"
     ]
    }
   ],
   "source": [
    "# Izracunajmo predikcije i usporedimo sa stvarnim vrijednostima\n",
    "test_prediction = model(x_test)\n",
    "test_prediction = torch.max(test_prediction, axis=1).indices\n",
    "print(accuracy_score(y_test, test_prediction.detach().numpy()))"
   ]
  },
  {
   "cell_type": "markdown",
   "metadata": {},
   "source": [
    "---\n",
    "\n",
    "Korištenje grafičke kartice za računanje"
   ]
  },
  {
   "cell_type": "code",
   "execution_count": 263,
   "metadata": {},
   "outputs": [
    {
     "data": {
      "text/plain": [
       "True"
      ]
     },
     "execution_count": 263,
     "metadata": {},
     "output_type": "execute_result"
    }
   ],
   "source": [
    "# ispitaj postoji li dostupna\n",
    "torch.cuda.is_available()"
   ]
  },
  {
   "cell_type": "code",
   "execution_count": 264,
   "metadata": {},
   "outputs": [
    {
     "name": "stdout",
     "output_type": "stream",
     "text": [
      "Running on the GPU\n"
     ]
    }
   ],
   "source": [
    "# Ako postoji dostupna postavi\n",
    "if torch.cuda.is_available():\n",
    "    device = torch.device(\"cuda:0\")  # you can continue going on here, like cuda:1 cuda:2....etc. \n",
    "    print(\"Running on the GPU\")\n",
    "else:\n",
    "    device = torch.device(\"cpu\")\n",
    "    print(\"Running on the CPU\")"
   ]
  },
  {
   "cell_type": "code",
   "execution_count": 265,
   "metadata": {},
   "outputs": [],
   "source": [
    "# -----------------------\n",
    "# prebaci na GPU\n",
    "\n",
    "# model\n",
    "model.to(device)\n",
    "\n",
    "# podatke\n",
    "x_train = x_train.to(device)\n",
    "y_train = y_train.to(device)"
   ]
  },
  {
   "cell_type": "code",
   "execution_count": 266,
   "metadata": {},
   "outputs": [
    {
     "name": "stdout",
     "output_type": "stream",
     "text": [
      "--------- Starting ---------\n",
      "100 3.880413770675659\n",
      "200 3.8803722858428955\n",
      "300 3.8803353309631348\n",
      "400 3.880302667617798\n",
      "500 3.88027286529541\n",
      "600 3.8802452087402344\n",
      "700 3.880220651626587\n",
      "800 3.880197048187256\n",
      "900 3.880176544189453\n",
      "1000 3.8801567554473877\n",
      "1100 3.8801376819610596\n",
      "1200 3.8801193237304688\n",
      "1300 3.880103826522827\n",
      "1400 3.8800876140594482\n",
      "1500 3.8800735473632812\n",
      "1600 3.8800580501556396\n",
      "1700 3.880044460296631\n",
      "1800 3.8800315856933594\n",
      "1900 3.880019187927246\n",
      "Required time:  4.8416008949279785\n"
     ]
    }
   ],
   "source": [
    "run()"
   ]
  }
 ],
 "metadata": {
  "kernelspec": {
   "display_name": "Python 3",
   "language": "python",
   "name": "python3"
  },
  "language_info": {
   "codemirror_mode": {
    "name": "ipython",
    "version": 3
   },
   "file_extension": ".py",
   "mimetype": "text/x-python",
   "name": "python",
   "nbconvert_exporter": "python",
   "pygments_lexer": "ipython3",
   "version": "3.8.5"
  }
 },
 "nbformat": 4,
 "nbformat_minor": 4
}
